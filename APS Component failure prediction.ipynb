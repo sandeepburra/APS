{
 "cells": [
  {
   "cell_type": "markdown",
   "metadata": {
    "colab_type": "text",
    "id": "p-uEkXK74uni"
   },
   "source": [
    "<p style=\"font-size:36px;text-align:center\"> <b>APS Component failure prediction</b> </p>"
   ]
  },
  {
   "cell_type": "markdown",
   "metadata": {
    "colab_type": "text",
    "id": "_P005zni4unk"
   },
   "source": [
    "<h1>1. Business Problem</h1>"
   ]
  },
  {
   "cell_type": "markdown",
   "metadata": {
    "colab_type": "text",
    "id": "XvTSQwaT4unl"
   },
   "source": [
    "<h2>1.1. Description</h2>"
   ]
  },
  {
   "cell_type": "markdown",
   "metadata": {
    "colab_type": "text",
    "id": "Ayt9SglZ4unn"
   },
   "source": [
    "<p> Data Source: https://ida2016.blogs.dsv.su.se/?page_id=1387 </p>\n",
    "<p> Data: Scania Trucks</p>\n",
    "\n",
    "<h6> Problem statement : </h6>\n",
    "<p>The system in focus is the Air Pressure system (APS) which generates pressurized air that are utilized in various functions in a truck, such as braking and gear changes. The datasets positive class corresponds to component failures for a specific component of the APS system. The negative class corresponds to trucks with failures for components not related to the APS system.</p>\n",
    "<p> The prbolem is to reduce the cost due to unecessary repairs. So it is required to minimize the false predictions.</p>\n",
    "\n",
    "Predicted class |\tTrue class      |\n",
    "                |   pos    |   neg  |\n",
    "_____________________________________\n",
    "        pos     |          | cost_1 |\n",
    "_____________________________________\n",
    "        neg     | cost_2   |        |\n",
    "_____________________________________\n",
    " \n",
    "Cost_1 = 10 and cost_2 = 500\n",
    "\n",
    "<p>The total cost of a prediction model the sum of \"Cost_1\" \n",
    "multiplied by the number of Instances with type 1 failure \n",
    "and \"Cost_2\" with the number of instances with type 2 failure, \n",
    "resulting in a \"Total_cost\".\n",
    "\n",
    "In this case Cost_1 refers to the cost that an unnessecary \n",
    "check needs to be done by an mechanic at an workshop, while \n",
    "Cost_2 refer to the cost of missing a faulty truck, \n",
    "which may cause a breakdown.\n",
    "\n",
    "Total_cost = Cost_1 * No_Instances + Cost_2 * No_Instances.</p>"
   ]
  },
  {
   "cell_type": "markdown",
   "metadata": {},
   "source": [
    "* from the above problem statement we could observe that, we have to reduce false positives and false negatives.\n",
    "* More importantly we have to reduce false negatives, since cost incurred due to false negative is 50 times higher than the false positives. "
   ]
  },
  {
   "cell_type": "markdown",
   "metadata": {},
   "source": [
    "<h2>1.2. Key performance metric</h2>"
   ]
  },
  {
   "cell_type": "markdown",
   "metadata": {},
   "source": [
    "* Here we have to reduce False Negative and False Positive, so clearly we can use precision and recall as performance metric.\n"
   ]
  },
  {
   "cell_type": "markdown",
   "metadata": {},
   "source": [
    "<img src='precision and recall.png' width=700px>"
   ]
  },
  {
   "cell_type": "markdown",
   "metadata": {},
   "source": [
    "* But here is a simpler metric which takes into account both precision and recall, and therefore, we can aim to maximize this number to make your model better. This metric is known as F1-score, which is simply the harmonic mean of precision and recall."
   ]
  },
  {
   "cell_type": "markdown",
   "metadata": {},
   "source": [
    "<img src='f1_score.png' width=500px>"
   ]
  },
  {
   "cell_type": "markdown",
   "metadata": {},
   "source": [
    "#### Generally f1 score balance the precision and recall  but one simple idea is that, because of cost incurred due to false negative is 50 times higher than the false positives, for this specific problem if we could try to slightly increase recall we may get better results ."
   ]
  },
  {
   "cell_type": "markdown",
   "metadata": {},
   "source": [
    "###### we should decrease false negatives in such a way that one point decrease in FN can be accepted for the cost of 49 FP. Since 1 point cost of FN = 50 point cost of FP"
   ]
  },
  {
   "cell_type": "markdown",
   "metadata": {
    "colab_type": "text",
    "id": "1AkfGIuB4uno"
   },
   "source": [
    "<h2>1.3. Real-world/Business objectives and constraints.</h2>"
   ]
  },
  {
   "cell_type": "markdown",
   "metadata": {
    "colab_type": "text",
    "id": "sBm_Isjm4unp"
   },
   "source": [
    "* No low-latency requirement.\n",
    "* Interpretability is not important.\n",
    "* misclassification leads the unecessary repair costs."
   ]
  },
  {
   "cell_type": "markdown",
   "metadata": {
    "colab_type": "text",
    "id": "O-6_2Ta74unr"
   },
   "source": [
    "<h1>2. Machine Learning Problem Formulation</h1>"
   ]
  },
  {
   "cell_type": "code",
   "execution_count": 1,
   "metadata": {
    "colab": {},
    "colab_type": "code",
    "id": "ZxRGfkEw4uns"
   },
   "outputs": [],
   "source": [
    "import pandas as pd\n",
    "import numpy as np\n",
    "import matplotlib.pyplot as plt\n",
    "import warnings\n",
    "warnings.filterwarnings(\"ignore\")\n",
    "from sklearn.impute import SimpleImputer\n",
    "from sklearn.model_selection import train_test_split\n",
    "from sklearn.metrics import confusion_matrix\n",
    "from sklearn.metrics import precision_recall_curve, auc, roc_curve\n",
    "import seaborn as sns\n",
    "from sklearn.metrics import f1_score\n",
    "from sklearn.preprocessing import MinMaxScaler\n",
    "from sklearn.metrics import precision_recall_curve\n",
    "from sklearn.decomposition import PCA\n",
    "import missingno as msno\n",
    "from sklearn.preprocessing import StandardScaler\n",
    "from xgboost import XGBClassifier\n",
    "from sklearn.linear_model import SGDClassifier\n",
    "from imblearn.over_sampling import SMOTE\n",
    "from sklearn.calibration import CalibratedClassifierCV\n",
    "from sklearn.model_selection import GridSearchCV\n",
    "from sklearn.ensemble import RandomForestClassifier\n",
    "from sklearn.svm import SVC\n",
    "warnings.filterwarnings(\"ignore\")"
   ]
  },
  {
   "cell_type": "markdown",
   "metadata": {
    "colab_type": "text",
    "id": "RSDlVxyE5njm"
   },
   "source": [
    "## Data Loading and preprocessing"
   ]
  },
  {
   "cell_type": "code",
   "execution_count": 2,
   "metadata": {
    "colab": {},
    "colab_type": "code",
    "id": "xs_7Daib4un2"
   },
   "outputs": [],
   "source": [
    "train = pd.read_csv(\"aps_failure_training_set.csv\")\n",
    "test = pd.read_csv(\"aps_failure_test_set.csv\")"
   ]
  },
  {
   "cell_type": "code",
   "execution_count": 3,
   "metadata": {
    "colab": {
     "base_uri": "https://localhost:8080/",
     "height": 253
    },
    "colab_type": "code",
    "executionInfo": {
     "elapsed": 10913,
     "status": "ok",
     "timestamp": 1564929334960,
     "user": {
      "displayName": "sandeep Burra",
      "photoUrl": "",
      "userId": "00094485018250843945"
     },
     "user_tz": -330
    },
    "id": "h0Is4zCf4un6",
    "outputId": "8c4c8441-b6f1-4256-e256-fb82bc1f0df0"
   },
   "outputs": [
    {
     "data": {
      "text/html": [
       "<div>\n",
       "<style scoped>\n",
       "    .dataframe tbody tr th:only-of-type {\n",
       "        vertical-align: middle;\n",
       "    }\n",
       "\n",
       "    .dataframe tbody tr th {\n",
       "        vertical-align: top;\n",
       "    }\n",
       "\n",
       "    .dataframe thead th {\n",
       "        text-align: right;\n",
       "    }\n",
       "</style>\n",
       "<table border=\"1\" class=\"dataframe\">\n",
       "  <thead>\n",
       "    <tr style=\"text-align: right;\">\n",
       "      <th></th>\n",
       "      <th>class</th>\n",
       "      <th>aa_000</th>\n",
       "      <th>ab_000</th>\n",
       "      <th>ac_000</th>\n",
       "      <th>ad_000</th>\n",
       "      <th>ae_000</th>\n",
       "      <th>af_000</th>\n",
       "      <th>ag_000</th>\n",
       "      <th>ag_001</th>\n",
       "      <th>ag_002</th>\n",
       "      <th>...</th>\n",
       "      <th>ee_002</th>\n",
       "      <th>ee_003</th>\n",
       "      <th>ee_004</th>\n",
       "      <th>ee_005</th>\n",
       "      <th>ee_006</th>\n",
       "      <th>ee_007</th>\n",
       "      <th>ee_008</th>\n",
       "      <th>ee_009</th>\n",
       "      <th>ef_000</th>\n",
       "      <th>eg_000</th>\n",
       "    </tr>\n",
       "  </thead>\n",
       "  <tbody>\n",
       "    <tr>\n",
       "      <th>0</th>\n",
       "      <td>neg</td>\n",
       "      <td>76698</td>\n",
       "      <td>na</td>\n",
       "      <td>2130706438</td>\n",
       "      <td>280</td>\n",
       "      <td>0</td>\n",
       "      <td>0</td>\n",
       "      <td>0</td>\n",
       "      <td>0</td>\n",
       "      <td>0</td>\n",
       "      <td>...</td>\n",
       "      <td>1240520</td>\n",
       "      <td>493384</td>\n",
       "      <td>721044</td>\n",
       "      <td>469792</td>\n",
       "      <td>339156</td>\n",
       "      <td>157956</td>\n",
       "      <td>73224</td>\n",
       "      <td>0</td>\n",
       "      <td>0</td>\n",
       "      <td>0</td>\n",
       "    </tr>\n",
       "    <tr>\n",
       "      <th>1</th>\n",
       "      <td>neg</td>\n",
       "      <td>33058</td>\n",
       "      <td>na</td>\n",
       "      <td>0</td>\n",
       "      <td>na</td>\n",
       "      <td>0</td>\n",
       "      <td>0</td>\n",
       "      <td>0</td>\n",
       "      <td>0</td>\n",
       "      <td>0</td>\n",
       "      <td>...</td>\n",
       "      <td>421400</td>\n",
       "      <td>178064</td>\n",
       "      <td>293306</td>\n",
       "      <td>245416</td>\n",
       "      <td>133654</td>\n",
       "      <td>81140</td>\n",
       "      <td>97576</td>\n",
       "      <td>1500</td>\n",
       "      <td>0</td>\n",
       "      <td>0</td>\n",
       "    </tr>\n",
       "    <tr>\n",
       "      <th>2</th>\n",
       "      <td>neg</td>\n",
       "      <td>41040</td>\n",
       "      <td>na</td>\n",
       "      <td>228</td>\n",
       "      <td>100</td>\n",
       "      <td>0</td>\n",
       "      <td>0</td>\n",
       "      <td>0</td>\n",
       "      <td>0</td>\n",
       "      <td>0</td>\n",
       "      <td>...</td>\n",
       "      <td>277378</td>\n",
       "      <td>159812</td>\n",
       "      <td>423992</td>\n",
       "      <td>409564</td>\n",
       "      <td>320746</td>\n",
       "      <td>158022</td>\n",
       "      <td>95128</td>\n",
       "      <td>514</td>\n",
       "      <td>0</td>\n",
       "      <td>0</td>\n",
       "    </tr>\n",
       "    <tr>\n",
       "      <th>3</th>\n",
       "      <td>neg</td>\n",
       "      <td>12</td>\n",
       "      <td>0</td>\n",
       "      <td>70</td>\n",
       "      <td>66</td>\n",
       "      <td>0</td>\n",
       "      <td>10</td>\n",
       "      <td>0</td>\n",
       "      <td>0</td>\n",
       "      <td>0</td>\n",
       "      <td>...</td>\n",
       "      <td>240</td>\n",
       "      <td>46</td>\n",
       "      <td>58</td>\n",
       "      <td>44</td>\n",
       "      <td>10</td>\n",
       "      <td>0</td>\n",
       "      <td>0</td>\n",
       "      <td>0</td>\n",
       "      <td>4</td>\n",
       "      <td>32</td>\n",
       "    </tr>\n",
       "    <tr>\n",
       "      <th>4</th>\n",
       "      <td>neg</td>\n",
       "      <td>60874</td>\n",
       "      <td>na</td>\n",
       "      <td>1368</td>\n",
       "      <td>458</td>\n",
       "      <td>0</td>\n",
       "      <td>0</td>\n",
       "      <td>0</td>\n",
       "      <td>0</td>\n",
       "      <td>0</td>\n",
       "      <td>...</td>\n",
       "      <td>622012</td>\n",
       "      <td>229790</td>\n",
       "      <td>405298</td>\n",
       "      <td>347188</td>\n",
       "      <td>286954</td>\n",
       "      <td>311560</td>\n",
       "      <td>433954</td>\n",
       "      <td>1218</td>\n",
       "      <td>0</td>\n",
       "      <td>0</td>\n",
       "    </tr>\n",
       "  </tbody>\n",
       "</table>\n",
       "<p>5 rows × 171 columns</p>\n",
       "</div>"
      ],
      "text/plain": [
       "  class  aa_000 ab_000      ac_000 ad_000 ae_000 af_000 ag_000 ag_001 ag_002  \\\n",
       "0   neg   76698     na  2130706438    280      0      0      0      0      0   \n",
       "1   neg   33058     na           0     na      0      0      0      0      0   \n",
       "2   neg   41040     na         228    100      0      0      0      0      0   \n",
       "3   neg      12      0          70     66      0     10      0      0      0   \n",
       "4   neg   60874     na        1368    458      0      0      0      0      0   \n",
       "\n",
       "   ...     ee_002  ee_003  ee_004  ee_005  ee_006  ee_007  ee_008 ee_009  \\\n",
       "0  ...    1240520  493384  721044  469792  339156  157956   73224      0   \n",
       "1  ...     421400  178064  293306  245416  133654   81140   97576   1500   \n",
       "2  ...     277378  159812  423992  409564  320746  158022   95128    514   \n",
       "3  ...        240      46      58      44      10       0       0      0   \n",
       "4  ...     622012  229790  405298  347188  286954  311560  433954   1218   \n",
       "\n",
       "  ef_000 eg_000  \n",
       "0      0      0  \n",
       "1      0      0  \n",
       "2      0      0  \n",
       "3      4     32  \n",
       "4      0      0  \n",
       "\n",
       "[5 rows x 171 columns]"
      ]
     },
     "execution_count": 3,
     "metadata": {},
     "output_type": "execute_result"
    }
   ],
   "source": [
    "train.head()"
   ]
  },
  {
   "cell_type": "code",
   "execution_count": 4,
   "metadata": {
    "colab": {
     "base_uri": "https://localhost:8080/",
     "height": 253
    },
    "colab_type": "code",
    "executionInfo": {
     "elapsed": 11196,
     "status": "ok",
     "timestamp": 1564929335282,
     "user": {
      "displayName": "sandeep Burra",
      "photoUrl": "",
      "userId": "00094485018250843945"
     },
     "user_tz": -330
    },
    "id": "gxauE0PIS1i3",
    "outputId": "7d89a60e-07d0-48f1-87a8-bc31c7ece965"
   },
   "outputs": [
    {
     "data": {
      "text/html": [
       "<div>\n",
       "<style scoped>\n",
       "    .dataframe tbody tr th:only-of-type {\n",
       "        vertical-align: middle;\n",
       "    }\n",
       "\n",
       "    .dataframe tbody tr th {\n",
       "        vertical-align: top;\n",
       "    }\n",
       "\n",
       "    .dataframe thead th {\n",
       "        text-align: right;\n",
       "    }\n",
       "</style>\n",
       "<table border=\"1\" class=\"dataframe\">\n",
       "  <thead>\n",
       "    <tr style=\"text-align: right;\">\n",
       "      <th></th>\n",
       "      <th>class</th>\n",
       "      <th>aa_000</th>\n",
       "      <th>ab_000</th>\n",
       "      <th>ac_000</th>\n",
       "      <th>ad_000</th>\n",
       "      <th>ae_000</th>\n",
       "      <th>af_000</th>\n",
       "      <th>ag_000</th>\n",
       "      <th>ag_001</th>\n",
       "      <th>ag_002</th>\n",
       "      <th>...</th>\n",
       "      <th>ee_002</th>\n",
       "      <th>ee_003</th>\n",
       "      <th>ee_004</th>\n",
       "      <th>ee_005</th>\n",
       "      <th>ee_006</th>\n",
       "      <th>ee_007</th>\n",
       "      <th>ee_008</th>\n",
       "      <th>ee_009</th>\n",
       "      <th>ef_000</th>\n",
       "      <th>eg_000</th>\n",
       "    </tr>\n",
       "  </thead>\n",
       "  <tbody>\n",
       "    <tr>\n",
       "      <th>0</th>\n",
       "      <td>neg</td>\n",
       "      <td>60</td>\n",
       "      <td>0</td>\n",
       "      <td>20</td>\n",
       "      <td>12</td>\n",
       "      <td>0</td>\n",
       "      <td>0</td>\n",
       "      <td>0</td>\n",
       "      <td>0</td>\n",
       "      <td>0</td>\n",
       "      <td>...</td>\n",
       "      <td>1098</td>\n",
       "      <td>138</td>\n",
       "      <td>412</td>\n",
       "      <td>654</td>\n",
       "      <td>78</td>\n",
       "      <td>88</td>\n",
       "      <td>0</td>\n",
       "      <td>0</td>\n",
       "      <td>0</td>\n",
       "      <td>0</td>\n",
       "    </tr>\n",
       "    <tr>\n",
       "      <th>1</th>\n",
       "      <td>neg</td>\n",
       "      <td>82</td>\n",
       "      <td>0</td>\n",
       "      <td>68</td>\n",
       "      <td>40</td>\n",
       "      <td>0</td>\n",
       "      <td>0</td>\n",
       "      <td>0</td>\n",
       "      <td>0</td>\n",
       "      <td>0</td>\n",
       "      <td>...</td>\n",
       "      <td>1068</td>\n",
       "      <td>276</td>\n",
       "      <td>1620</td>\n",
       "      <td>116</td>\n",
       "      <td>86</td>\n",
       "      <td>462</td>\n",
       "      <td>0</td>\n",
       "      <td>0</td>\n",
       "      <td>0</td>\n",
       "      <td>0</td>\n",
       "    </tr>\n",
       "    <tr>\n",
       "      <th>2</th>\n",
       "      <td>neg</td>\n",
       "      <td>66002</td>\n",
       "      <td>2</td>\n",
       "      <td>212</td>\n",
       "      <td>112</td>\n",
       "      <td>0</td>\n",
       "      <td>0</td>\n",
       "      <td>0</td>\n",
       "      <td>0</td>\n",
       "      <td>0</td>\n",
       "      <td>...</td>\n",
       "      <td>495076</td>\n",
       "      <td>380368</td>\n",
       "      <td>440134</td>\n",
       "      <td>269556</td>\n",
       "      <td>1315022</td>\n",
       "      <td>153680</td>\n",
       "      <td>516</td>\n",
       "      <td>0</td>\n",
       "      <td>0</td>\n",
       "      <td>0</td>\n",
       "    </tr>\n",
       "    <tr>\n",
       "      <th>3</th>\n",
       "      <td>neg</td>\n",
       "      <td>59816</td>\n",
       "      <td>na</td>\n",
       "      <td>1010</td>\n",
       "      <td>936</td>\n",
       "      <td>0</td>\n",
       "      <td>0</td>\n",
       "      <td>0</td>\n",
       "      <td>0</td>\n",
       "      <td>0</td>\n",
       "      <td>...</td>\n",
       "      <td>540820</td>\n",
       "      <td>243270</td>\n",
       "      <td>483302</td>\n",
       "      <td>485332</td>\n",
       "      <td>431376</td>\n",
       "      <td>210074</td>\n",
       "      <td>281662</td>\n",
       "      <td>3232</td>\n",
       "      <td>0</td>\n",
       "      <td>0</td>\n",
       "    </tr>\n",
       "    <tr>\n",
       "      <th>4</th>\n",
       "      <td>neg</td>\n",
       "      <td>1814</td>\n",
       "      <td>na</td>\n",
       "      <td>156</td>\n",
       "      <td>140</td>\n",
       "      <td>0</td>\n",
       "      <td>0</td>\n",
       "      <td>0</td>\n",
       "      <td>0</td>\n",
       "      <td>0</td>\n",
       "      <td>...</td>\n",
       "      <td>7646</td>\n",
       "      <td>4144</td>\n",
       "      <td>18466</td>\n",
       "      <td>49782</td>\n",
       "      <td>3176</td>\n",
       "      <td>482</td>\n",
       "      <td>76</td>\n",
       "      <td>0</td>\n",
       "      <td>0</td>\n",
       "      <td>0</td>\n",
       "    </tr>\n",
       "  </tbody>\n",
       "</table>\n",
       "<p>5 rows × 171 columns</p>\n",
       "</div>"
      ],
      "text/plain": [
       "  class  aa_000 ab_000 ac_000 ad_000 ae_000 af_000 ag_000 ag_001 ag_002  \\\n",
       "0   neg      60      0     20     12      0      0      0      0      0   \n",
       "1   neg      82      0     68     40      0      0      0      0      0   \n",
       "2   neg   66002      2    212    112      0      0      0      0      0   \n",
       "3   neg   59816     na   1010    936      0      0      0      0      0   \n",
       "4   neg    1814     na    156    140      0      0      0      0      0   \n",
       "\n",
       "   ...    ee_002  ee_003  ee_004  ee_005   ee_006  ee_007  ee_008 ee_009  \\\n",
       "0  ...      1098     138     412     654       78      88       0      0   \n",
       "1  ...      1068     276    1620     116       86     462       0      0   \n",
       "2  ...    495076  380368  440134  269556  1315022  153680     516      0   \n",
       "3  ...    540820  243270  483302  485332   431376  210074  281662   3232   \n",
       "4  ...      7646    4144   18466   49782     3176     482      76      0   \n",
       "\n",
       "  ef_000 eg_000  \n",
       "0      0      0  \n",
       "1      0      0  \n",
       "2      0      0  \n",
       "3      0      0  \n",
       "4      0      0  \n",
       "\n",
       "[5 rows x 171 columns]"
      ]
     },
     "execution_count": 4,
     "metadata": {},
     "output_type": "execute_result"
    }
   ],
   "source": [
    "test.head()"
   ]
  },
  {
   "cell_type": "code",
   "execution_count": 5,
   "metadata": {
    "colab": {
     "base_uri": "https://localhost:8080/",
     "height": 51
    },
    "colab_type": "code",
    "executionInfo": {
     "elapsed": 11163,
     "status": "ok",
     "timestamp": 1564929335286,
     "user": {
      "displayName": "sandeep Burra",
      "photoUrl": "",
      "userId": "00094485018250843945"
     },
     "user_tz": -330
    },
    "id": "ovps9elJ4uoB",
    "outputId": "15164a06-81bd-4e8a-c806-3aae03618c63"
   },
   "outputs": [
    {
     "name": "stdout",
     "output_type": "stream",
     "text": [
      "shape of train dataset: (60000, 171)\n",
      "shape of test dataset: (16000, 171)\n"
     ]
    }
   ],
   "source": [
    "print(\"shape of train dataset:\",train.shape)\n",
    "print(\"shape of test dataset:\",test.shape)"
   ]
  },
  {
   "cell_type": "code",
   "execution_count": 6,
   "metadata": {
    "colab": {
     "base_uri": "https://localhost:8080/",
     "height": 34
    },
    "colab_type": "code",
    "executionInfo": {
     "elapsed": 11126,
     "status": "ok",
     "timestamp": 1564929335291,
     "user": {
      "displayName": "sandeep Burra",
      "photoUrl": "",
      "userId": "00094485018250843945"
     },
     "user_tz": -330
    },
    "id": "zemX24254uoG",
    "outputId": "de5c5fc5-10bd-490c-be2a-94f39ba3d03a"
   },
   "outputs": [
    {
     "data": {
      "text/plain": [
       "array(['neg', 'pos'], dtype=object)"
      ]
     },
     "execution_count": 6,
     "metadata": {},
     "output_type": "execute_result"
    }
   ],
   "source": [
    "train[\"class\"].unique()"
   ]
  },
  {
   "cell_type": "code",
   "execution_count": 7,
   "metadata": {
    "colab": {
     "base_uri": "https://localhost:8080/",
     "height": 304
    },
    "colab_type": "code",
    "executionInfo": {
     "elapsed": 11519,
     "status": "ok",
     "timestamp": 1564929335702,
     "user": {
      "displayName": "sandeep Burra",
      "photoUrl": "",
      "userId": "00094485018250843945"
     },
     "user_tz": -330
    },
    "id": "U6UYcuek4uoK",
    "outputId": "79003e58-14b3-458f-9c89-bf80ac02d808"
   },
   "outputs": [
    {
     "data": {
      "image/png": "[encoded data removed]",
      "text/plain": [
       "<Figure size 432x288 with 1 Axes>"
      ]
     },
     "metadata": {},
     "output_type": "display_data"
    }
   ],
   "source": [
    "train_class_distribution = train['class'].value_counts()\n",
    "train_class_distribution.plot(kind='bar')\n",
    "plt.xlabel('Class')\n",
    "plt.ylabel('Data points per Class')\n",
    "plt.title('Distribution of yi in train data')\n",
    "plt.grid()\n",
    "plt.show()"
   ]
  },
  {
   "cell_type": "code",
   "execution_count": 8,
   "metadata": {
    "colab": {
     "base_uri": "https://localhost:8080/",
     "height": 304
    },
    "colab_type": "code",
    "executionInfo": {
     "elapsed": 11959,
     "status": "ok",
     "timestamp": 1564929336157,
     "user": {
      "displayName": "sandeep Burra",
      "photoUrl": "",
      "userId": "00094485018250843945"
     },
     "user_tz": -330
    },
    "id": "tzqmjv4hTRnS",
    "outputId": "67365630-0824-4741-89d2-e39f160c60ad"
   },
   "outputs": [
    {
     "data": {
      "image/png": "[encoded data removed]",
      "text/plain": [
       "<Figure size 432x288 with 1 Axes>"
      ]
     },
     "metadata": {},
     "output_type": "display_data"
    }
   ],
   "source": [
    "train_class_distribution = test['class'].value_counts()\n",
    "train_class_distribution.plot(kind='bar')\n",
    "plt.xlabel('Class')\n",
    "plt.ylabel('Data points per Class')\n",
    "plt.title('Distribution of yi in train data')\n",
    "plt.grid()\n",
    "plt.show()"
   ]
  },
  {
   "cell_type": "markdown",
   "metadata": {},
   "source": [
    "#### Observation:\n",
    "* from above Bar Plots, we could conclude that the given data is highly imbalanced"
   ]
  },
  {
   "cell_type": "code",
   "execution_count": 9,
   "metadata": {
    "colab": {},
    "colab_type": "code",
    "id": "hiFn9Q6X4uoO"
   },
   "outputs": [],
   "source": [
    "train.replace(to_replace = 'neg', value = 0, inplace = True)\n",
    "train.replace(to_replace = 'pos', value = 1, inplace = True)\n",
    "test.replace(to_replace = 'neg', value = 0, inplace = True)\n",
    "test.replace(to_replace = 'pos', value = 1, inplace = True)"
   ]
  },
  {
   "cell_type": "code",
   "execution_count": 10,
   "metadata": {
    "colab": {},
    "colab_type": "code",
    "id": "NZ1Eeum24uoT"
   },
   "outputs": [],
   "source": [
    "y_train = train[\"class\"]\n",
    "train.drop(['class'],axis = 1,inplace = True)\n",
    "y_test = test[\"class\"]\n",
    "test.drop(['class'],axis = 1,inplace = True)"
   ]
  },
  {
   "cell_type": "markdown",
   "metadata": {},
   "source": [
    "### Checking for Missing Values"
   ]
  },
  {
   "cell_type": "code",
   "execution_count": 11,
   "metadata": {
    "colab": {},
    "colab_type": "code",
    "id": "O0myGOid4uol"
   },
   "outputs": [],
   "source": [
    "# In the given data missing values are represented as \"na\", but we require in the \n",
    "# np.NaN format to process the data\n",
    "\n",
    "train.replace(to_replace = 'na', value = np.NaN, inplace = True)\n",
    "test.replace(to_replace = 'na', value = np.NaN, inplace = True)"
   ]
  },
  {
   "cell_type": "code",
   "execution_count": 12,
   "metadata": {
    "colab": {
     "base_uri": "https://localhost:8080/",
     "height": 253
    },
    "colab_type": "code",
    "executionInfo": {
     "elapsed": 19171,
     "status": "ok",
     "timestamp": 1564929343536,
     "user": {
      "displayName": "sandeep Burra",
      "photoUrl": "",
      "userId": "00094485018250843945"
     },
     "user_tz": -330
    },
    "id": "cem29o-W4uop",
    "outputId": "64912d19-6a93-45eb-b203-dde0bc5bfbbd",
    "scrolled": false
   },
   "outputs": [
    {
     "data": {
      "text/html": [
       "<div>\n",
       "<style scoped>\n",
       "    .dataframe tbody tr th:only-of-type {\n",
       "        vertical-align: middle;\n",
       "    }\n",
       "\n",
       "    .dataframe tbody tr th {\n",
       "        vertical-align: top;\n",
       "    }\n",
       "\n",
       "    .dataframe thead th {\n",
       "        text-align: right;\n",
       "    }\n",
       "</style>\n",
       "<table border=\"1\" class=\"dataframe\">\n",
       "  <thead>\n",
       "    <tr style=\"text-align: right;\">\n",
       "      <th></th>\n",
       "      <th>aa_000</th>\n",
       "      <th>ab_000</th>\n",
       "      <th>ac_000</th>\n",
       "      <th>ad_000</th>\n",
       "      <th>ae_000</th>\n",
       "      <th>af_000</th>\n",
       "      <th>ag_000</th>\n",
       "      <th>ag_001</th>\n",
       "      <th>ag_002</th>\n",
       "      <th>ag_003</th>\n",
       "      <th>...</th>\n",
       "      <th>ee_002</th>\n",
       "      <th>ee_003</th>\n",
       "      <th>ee_004</th>\n",
       "      <th>ee_005</th>\n",
       "      <th>ee_006</th>\n",
       "      <th>ee_007</th>\n",
       "      <th>ee_008</th>\n",
       "      <th>ee_009</th>\n",
       "      <th>ef_000</th>\n",
       "      <th>eg_000</th>\n",
       "    </tr>\n",
       "  </thead>\n",
       "  <tbody>\n",
       "    <tr>\n",
       "      <th>0</th>\n",
       "      <td>76698</td>\n",
       "      <td>NaN</td>\n",
       "      <td>2130706438</td>\n",
       "      <td>280</td>\n",
       "      <td>0</td>\n",
       "      <td>0</td>\n",
       "      <td>0</td>\n",
       "      <td>0</td>\n",
       "      <td>0</td>\n",
       "      <td>0</td>\n",
       "      <td>...</td>\n",
       "      <td>1240520</td>\n",
       "      <td>493384</td>\n",
       "      <td>721044</td>\n",
       "      <td>469792</td>\n",
       "      <td>339156</td>\n",
       "      <td>157956</td>\n",
       "      <td>73224</td>\n",
       "      <td>0</td>\n",
       "      <td>0</td>\n",
       "      <td>0</td>\n",
       "    </tr>\n",
       "    <tr>\n",
       "      <th>1</th>\n",
       "      <td>33058</td>\n",
       "      <td>NaN</td>\n",
       "      <td>0</td>\n",
       "      <td>NaN</td>\n",
       "      <td>0</td>\n",
       "      <td>0</td>\n",
       "      <td>0</td>\n",
       "      <td>0</td>\n",
       "      <td>0</td>\n",
       "      <td>0</td>\n",
       "      <td>...</td>\n",
       "      <td>421400</td>\n",
       "      <td>178064</td>\n",
       "      <td>293306</td>\n",
       "      <td>245416</td>\n",
       "      <td>133654</td>\n",
       "      <td>81140</td>\n",
       "      <td>97576</td>\n",
       "      <td>1500</td>\n",
       "      <td>0</td>\n",
       "      <td>0</td>\n",
       "    </tr>\n",
       "    <tr>\n",
       "      <th>2</th>\n",
       "      <td>41040</td>\n",
       "      <td>NaN</td>\n",
       "      <td>228</td>\n",
       "      <td>100</td>\n",
       "      <td>0</td>\n",
       "      <td>0</td>\n",
       "      <td>0</td>\n",
       "      <td>0</td>\n",
       "      <td>0</td>\n",
       "      <td>0</td>\n",
       "      <td>...</td>\n",
       "      <td>277378</td>\n",
       "      <td>159812</td>\n",
       "      <td>423992</td>\n",
       "      <td>409564</td>\n",
       "      <td>320746</td>\n",
       "      <td>158022</td>\n",
       "      <td>95128</td>\n",
       "      <td>514</td>\n",
       "      <td>0</td>\n",
       "      <td>0</td>\n",
       "    </tr>\n",
       "    <tr>\n",
       "      <th>3</th>\n",
       "      <td>12</td>\n",
       "      <td>0</td>\n",
       "      <td>70</td>\n",
       "      <td>66</td>\n",
       "      <td>0</td>\n",
       "      <td>10</td>\n",
       "      <td>0</td>\n",
       "      <td>0</td>\n",
       "      <td>0</td>\n",
       "      <td>318</td>\n",
       "      <td>...</td>\n",
       "      <td>240</td>\n",
       "      <td>46</td>\n",
       "      <td>58</td>\n",
       "      <td>44</td>\n",
       "      <td>10</td>\n",
       "      <td>0</td>\n",
       "      <td>0</td>\n",
       "      <td>0</td>\n",
       "      <td>4</td>\n",
       "      <td>32</td>\n",
       "    </tr>\n",
       "    <tr>\n",
       "      <th>4</th>\n",
       "      <td>60874</td>\n",
       "      <td>NaN</td>\n",
       "      <td>1368</td>\n",
       "      <td>458</td>\n",
       "      <td>0</td>\n",
       "      <td>0</td>\n",
       "      <td>0</td>\n",
       "      <td>0</td>\n",
       "      <td>0</td>\n",
       "      <td>0</td>\n",
       "      <td>...</td>\n",
       "      <td>622012</td>\n",
       "      <td>229790</td>\n",
       "      <td>405298</td>\n",
       "      <td>347188</td>\n",
       "      <td>286954</td>\n",
       "      <td>311560</td>\n",
       "      <td>433954</td>\n",
       "      <td>1218</td>\n",
       "      <td>0</td>\n",
       "      <td>0</td>\n",
       "    </tr>\n",
       "  </tbody>\n",
       "</table>\n",
       "<p>5 rows × 170 columns</p>\n",
       "</div>"
      ],
      "text/plain": [
       "   aa_000 ab_000      ac_000 ad_000 ae_000 af_000 ag_000 ag_001 ag_002 ag_003  \\\n",
       "0   76698    NaN  2130706438    280      0      0      0      0      0      0   \n",
       "1   33058    NaN           0    NaN      0      0      0      0      0      0   \n",
       "2   41040    NaN         228    100      0      0      0      0      0      0   \n",
       "3      12      0          70     66      0     10      0      0      0    318   \n",
       "4   60874    NaN        1368    458      0      0      0      0      0      0   \n",
       "\n",
       "   ...     ee_002  ee_003  ee_004  ee_005  ee_006  ee_007  ee_008 ee_009  \\\n",
       "0  ...    1240520  493384  721044  469792  339156  157956   73224      0   \n",
       "1  ...     421400  178064  293306  245416  133654   81140   97576   1500   \n",
       "2  ...     277378  159812  423992  409564  320746  158022   95128    514   \n",
       "3  ...        240      46      58      44      10       0       0      0   \n",
       "4  ...     622012  229790  405298  347188  286954  311560  433954   1218   \n",
       "\n",
       "  ef_000 eg_000  \n",
       "0      0      0  \n",
       "1      0      0  \n",
       "2      0      0  \n",
       "3      4     32  \n",
       "4      0      0  \n",
       "\n",
       "[5 rows x 170 columns]"
      ]
     },
     "execution_count": 12,
     "metadata": {},
     "output_type": "execute_result"
    }
   ],
   "source": [
    "train.head()"
   ]
  },
  {
   "cell_type": "code",
   "execution_count": 13,
   "metadata": {},
   "outputs": [
    {
     "data": {
      "text/plain": [
       "<matplotlib.axes._subplots.AxesSubplot at 0x18106dac9b0>"
      ]
     },
     "execution_count": 13,
     "metadata": {},
     "output_type": "execute_result"
    },
    {
     "data": {
      "image/png": "[encoded data removed]",
      "text/plain": [
       "<Figure size 432x288 with 1 Axes>"
      ]
     },
     "metadata": {},
     "output_type": "display_data"
    }
   ],
   "source": [
    "#https://dev.to/tomoyukiaota/visualizing-the-patterns-of-missing-value-occurrence-with-python-46dj\n",
    "sns.heatmap(train.isnull(), cbar=False)"
   ]
  },
  {
   "cell_type": "code",
   "execution_count": 14,
   "metadata": {
    "scrolled": true
   },
   "outputs": [
    {
     "data": {
      "text/plain": [
       "<matplotlib.axes._subplots.AxesSubplot at 0x18106de1748>"
      ]
     },
     "execution_count": 14,
     "metadata": {},
     "output_type": "execute_result"
    },
    {
     "data": {
      "image/png": "[encoded data removed]",
      "text/plain": [
       "<Figure size 1800x720 with 2 Axes>"
      ]
     },
     "metadata": {},
     "output_type": "display_data"
    }
   ],
   "source": [
    "msno.matrix(train)"
   ]
  },
  {
   "cell_type": "markdown",
   "metadata": {},
   "source": [
    "#### Oservations:\n",
    "* There are lot of missing values in the data, so we cannot remove the rows as it will leads to the great amount of information loss.\n",
    "* To avoid the information loss we will implement below two ideas to deal with the missing values.\n",
    "    * Remove columns which contains more than 75% of NaN values.\n",
    "    * Imputation techniques"
   ]
  },
  {
   "cell_type": "code",
   "execution_count": 15,
   "metadata": {
    "colab": {},
    "colab_type": "code",
    "id": "vFIUy_aL4uot"
   },
   "outputs": [],
   "source": [
    "# 75% of 60000 = 45000\n",
    "train.dropna(axis = 1, thresh=45000,inplace= True)"
   ]
  },
  {
   "cell_type": "code",
   "execution_count": 16,
   "metadata": {
    "colab": {},
    "colab_type": "code",
    "id": "n73m8DRL4uoy"
   },
   "outputs": [],
   "source": [
    "new_columns = train.columns"
   ]
  },
  {
   "cell_type": "code",
   "execution_count": 17,
   "metadata": {
    "colab": {},
    "colab_type": "code",
    "id": "A1RLp2sVTyhS"
   },
   "outputs": [],
   "source": [
    "# Finding removed columns\n",
    "removed_columns = []\n",
    "for i in test.columns:\n",
    "    if i not in new_columns:\n",
    "        removed_columns.append(i)"
   ]
  },
  {
   "cell_type": "code",
   "execution_count": 18,
   "metadata": {
    "colab": {},
    "colab_type": "code",
    "id": "Cmo5G57aUhDJ"
   },
   "outputs": [],
   "source": [
    "# Dropping removed columns of train data from test data\n",
    "test.drop(removed_columns,axis = 1,inplace = True)"
   ]
  },
  {
   "cell_type": "code",
   "execution_count": 19,
   "metadata": {
    "colab": {
     "base_uri": "https://localhost:8080/",
     "height": 34
    },
    "colab_type": "code",
    "executionInfo": {
     "elapsed": 20154,
     "status": "ok",
     "timestamp": 1564929344606,
     "user": {
      "displayName": "sandeep Burra",
      "photoUrl": "",
      "userId": "00094485018250843945"
     },
     "user_tz": -330
    },
    "id": "ZWmdBRpLUzDU",
    "outputId": "63857533-3335-4286-ab69-e0eeebe14d4c"
   },
   "outputs": [
    {
     "data": {
      "text/plain": [
       "(16000, 160)"
      ]
     },
     "execution_count": 19,
     "metadata": {},
     "output_type": "execute_result"
    }
   ],
   "source": [
    "test.shape"
   ]
  },
  {
   "cell_type": "markdown",
   "metadata": {},
   "source": [
    "### Imputation Techniques"
   ]
  },
  {
   "cell_type": "markdown",
   "metadata": {},
   "source": [
    "* popular Imputation Techniques are:\n",
    "    * Mean Imputation\n",
    "    * Median Imputation\n",
    "    * constant value imputation\n",
    "    * Most_frequent value imputation\n",
    "*  Most_frequent value imputation will work fairly well on categorical data. Since our data is continuous we will focus on first 3 methods."
   ]
  },
  {
   "cell_type": "markdown",
   "metadata": {},
   "source": [
    "#### Mean Imputation"
   ]
  },
  {
   "cell_type": "code",
   "execution_count": 20,
   "metadata": {
    "colab": {},
    "colab_type": "code",
    "id": "Hzg-v6eO4upG"
   },
   "outputs": [],
   "source": [
    "mean_imputation = SimpleImputer(missing_values= np.nan , strategy=\"mean\")\n",
    "x_train_mean = mean_imputation.fit_transform(train)\n",
    "x_test_mean = mean_imputation.transform(test)"
   ]
  },
  {
   "cell_type": "markdown",
   "metadata": {},
   "source": [
    "#### Median Imputation"
   ]
  },
  {
   "cell_type": "code",
   "execution_count": 21,
   "metadata": {
    "colab": {},
    "colab_type": "code",
    "id": "Hzg-v6eO4upG"
   },
   "outputs": [],
   "source": [
    "median_imputation = SimpleImputer(missing_values= np.nan , strategy=\"median\")\n",
    "x_train_median = median_imputation.fit_transform(train)\n",
    "x_test_median = median_imputation.transform(test)"
   ]
  },
  {
   "cell_type": "markdown",
   "metadata": {},
   "source": [
    "#### constant value imputation"
   ]
  },
  {
   "cell_type": "code",
   "execution_count": 22,
   "metadata": {
    "colab": {},
    "colab_type": "code",
    "id": "Hzg-v6eO4upG"
   },
   "outputs": [],
   "source": [
    "constant_imputation = SimpleImputer(missing_values= np.nan,strategy='constant', fill_value=-1)\n",
    "x_train_constant = constant_imputation.fit_transform(train)\n",
    "x_test_constant = constant_imputation.transform(test)"
   ]
  },
  {
   "cell_type": "markdown",
   "metadata": {},
   "source": [
    "### Balancing the data using SMOTE(Synthetic Minority Oversampling Technique)"
   ]
  },
  {
   "cell_type": "markdown",
   "metadata": {},
   "source": [
    "* SMOTE is an oversampling method. It works by creating synthetic samples from the minor class instead of creating copies. The algorithm selects two or more similar instances (using a distance measure) and perturbing an instance one attribute at a time by a random amount within the difference to the neighboring instances."
   ]
  },
  {
   "cell_type": "markdown",
   "metadata": {},
   "source": [
    "###### SMOTE for mean Imputed data"
   ]
  },
  {
   "cell_type": "code",
   "execution_count": 23,
   "metadata": {
    "colab": {},
    "colab_type": "code",
    "id": "S6M5-st5JWj9"
   },
   "outputs": [],
   "source": [
    "sm = SMOTE(random_state=2)\n",
    "X_train_mean_sm, y_train_mean = sm.fit_sample(x_train_mean, y_train.ravel())"
   ]
  },
  {
   "cell_type": "code",
   "execution_count": 24,
   "metadata": {},
   "outputs": [],
   "source": [
    "from sklearn.preprocessing import StandardScaler"
   ]
  },
  {
   "cell_type": "code",
   "execution_count": 25,
   "metadata": {},
   "outputs": [],
   "source": [
    "# Standardizing the data\n",
    "ss = StandardScaler()\n",
    "X_train_mean_std = ss.fit_transform(X_train_mean_sm)\n",
    "X_test_mean_std = ss.transform(x_test_mean)"
   ]
  },
  {
   "cell_type": "markdown",
   "metadata": {},
   "source": [
    "###### SMOTE for median Imputed data"
   ]
  },
  {
   "cell_type": "code",
   "execution_count": 26,
   "metadata": {
    "colab": {},
    "colab_type": "code",
    "id": "S6M5-st5JWj9"
   },
   "outputs": [],
   "source": [
    "sm = SMOTE(random_state=2)\n",
    "X_train_median_sm, y_train_median = sm.fit_sample(x_train_median, y_train.ravel())"
   ]
  },
  {
   "cell_type": "code",
   "execution_count": 27,
   "metadata": {},
   "outputs": [],
   "source": [
    "ss = StandardScaler()\n",
    "X_train_median_std = ss.fit_transform(X_train_median_sm)\n",
    "X_test_median_std = ss.transform(x_test_median)"
   ]
  },
  {
   "cell_type": "markdown",
   "metadata": {},
   "source": [
    "###### SMOTE for constant value Imputed data"
   ]
  },
  {
   "cell_type": "code",
   "execution_count": 28,
   "metadata": {
    "colab": {},
    "colab_type": "code",
    "id": "S6M5-st5JWj9"
   },
   "outputs": [],
   "source": [
    "sm = SMOTE(random_state=2)\n",
    "X_train_con_sm, y_train_constant = sm.fit_sample(x_train_constant, y_train.ravel())"
   ]
  },
  {
   "cell_type": "code",
   "execution_count": 29,
   "metadata": {},
   "outputs": [],
   "source": [
    "ss = StandardScaler()\n",
    "X_train_constant_std = ss.fit_transform(X_train_con_sm)\n",
    "X_test_constant_std = ss.transform(x_test_constant)"
   ]
  },
  {
   "cell_type": "markdown",
   "metadata": {
    "colab_type": "text",
    "id": "i3lx-Ze35v9K"
   },
   "source": [
    "# Utility Functions"
   ]
  },
  {
   "cell_type": "code",
   "execution_count": 30,
   "metadata": {
    "colab": {},
    "colab_type": "code",
    "id": "YPTPDkc74upY"
   },
   "outputs": [],
   "source": [
    "def plot_confusion_matrix(test_y, predict_y):\n",
    "    \n",
    "    '''\n",
    "    This function takes y_ture, y_predicted, and prints consfusion matrix,\n",
    "    f1_score and Total cost due to misclassification\n",
    "        \n",
    "    '''\n",
    "    C = confusion_matrix(test_y, predict_y)\n",
    "    \n",
    "    plt.figure(figsize=(8,4))\n",
    "    \n",
    "    labels = [\"neg\",\"pos\"]\n",
    "    # representing A in heatmap format\n",
    "    cmap=sns.light_palette(\"blue\")\n",
    "    sns.heatmap(C, annot=True, cmap=cmap, fmt=\".3f\", xticklabels=labels, yticklabels=labels)\n",
    "    plt.xlabel('Predicted Class')\n",
    "    plt.ylabel('Original Class')\n",
    "    plt.title(\"Confusion matrix\") \n",
    "    \n",
    "    plt.show()\n",
    "    cost_1 = 10*C[0][1]\n",
    "    cost_2 = 500*C[1][0]\n",
    "    total_cost = cost_1 + cost_2\n",
    "    print(\"f1_score :\",f1_score(test_y, predict_y))\n",
    "    print(\"Total Cost due to mis classifiation:\",total_cost)\n",
    "    "
   ]
  },
  {
   "cell_type": "code",
   "execution_count": 31,
   "metadata": {
    "colab": {},
    "colab_type": "code",
    "id": "Sw4Dn6OY4upb"
   },
   "outputs": [],
   "source": [
    "def total_cost(test_y, predict_y):\n",
    "    '''\n",
    "    This function takes y_ture, y_predicted, and prints Total cost due to misclassification\n",
    "   \n",
    "    '''\n",
    "    C = confusion_matrix(test_y, predict_y)\n",
    "    cost_1 = 10*C[0][1]\n",
    "    cost_2 = 500*C[1][0]\n",
    "    total = (cost_1 + cost_2)\n",
    "    return total"
   ]
  },
  {
   "cell_type": "code",
   "execution_count": 32,
   "metadata": {
    "colab": {},
    "colab_type": "code",
    "id": "zi9f7Mn94uph"
   },
   "outputs": [],
   "source": [
    "#https://towardsdatascience.com/fine-tuning-a-classifier-in-scikit-learn-66e048c21e65\n",
    "def plot_precision_recall_vs_threshold(precisions, recalls, thresholds):\n",
    "    \"\"\"\n",
    "        Gives the plot of precision and recall vs thresholds\n",
    "    \"\"\"\n",
    "    plt.figure(figsize=(8, 8))\n",
    "    plt.title(\"Precision and Recall Scores as a function of the decision threshold\")\n",
    "    plt.plot(thresholds, precisions[:-1], \"b--\", label=\"Precision\")\n",
    "    plt.plot(thresholds, recalls[:-1], \"g-\", label=\"Recall\")\n",
    "    plt.ylabel(\"Score\")\n",
    "    plt.xlabel(\"Decision Threshold\")\n",
    "    plt.legend(loc='best')\n",
    "    plt.grid()\n",
    "    plt.show()"
   ]
  },
  {
   "cell_type": "code",
   "execution_count": 59,
   "metadata": {
    "colab": {},
    "colab_type": "code",
    "id": "9bXExMIE8J9B"
   },
   "outputs": [],
   "source": [
    "def pred_with_threshold(sig_clf_probs,t):\n",
    "    '''\n",
    "    This function takes proability scores and threshold value and classifies predictions based on threshold value\n",
    "    \n",
    "    '''\n",
    "    \n",
    "\n",
    "    predictions = []\n",
    "    for i in sig_clf_probs:\n",
    "        if i>=t:\n",
    "            predictions.append(1)\n",
    "        else:\n",
    "            predictions.append(0)\n",
    "    return predictions"
   ]
  },
  {
   "cell_type": "markdown",
   "metadata": {},
   "source": [
    "## Random Model"
   ]
  },
  {
   "cell_type": "code",
   "execution_count": 34,
   "metadata": {
    "colab": {},
    "colab_type": "code",
    "id": "inXrr7Ec4upn"
   },
   "outputs": [],
   "source": [
    "import random"
   ]
  },
  {
   "cell_type": "code",
   "execution_count": 35,
   "metadata": {
    "colab": {
     "base_uri": "https://localhost:8080/",
     "height": 346
    },
    "colab_type": "code",
    "executionInfo": {
     "elapsed": 1310,
     "status": "ok",
     "timestamp": 1564930233494,
     "user": {
      "displayName": "sandeep Burra",
      "photoUrl": "",
      "userId": "00094485018250843945"
     },
     "user_tz": -330
    },
    "id": "7cx6NCF_4upr",
    "outputId": "400a2957-2f18-49c2-d83a-1a7af39fdd98"
   },
   "outputs": [
    {
     "name": "stdout",
     "output_type": "stream",
     "text": [
      "f1_score on Test Data using Random Model 0.04289799809342231\n"
     ]
    },
    {
     "data": {
      "image/png": "[encoded data removed]",
      "text/plain": [
       "<Figure size 576x288 with 2 Axes>"
      ]
     },
     "metadata": {},
     "output_type": "display_data"
    },
    {
     "name": "stdout",
     "output_type": "stream",
     "text": [
      "f1_score : 0.04289799809342231\n",
      "Total Cost due to mis classifiation: 175870\n"
     ]
    }
   ],
   "source": [
    "test_len = X_test_mean_std.shape[0]\n",
    "predicted_y = np.zeros((test_len))\n",
    "for i in range(test_len):\n",
    "    predicted_y[i] =random.randint(0,1)\n",
    "print(\"f1_score on Test Data using Random Model\",f1_score(y_test, predicted_y))\n",
    "\n",
    "plot_confusion_matrix(y_test, predicted_y)"
   ]
  },
  {
   "cell_type": "markdown",
   "metadata": {},
   "source": [
    "* with simple Random model we got f1_score as 0.047 and cost as 1,71,090. This would be the benchmark for our models"
   ]
  },
  {
   "cell_type": "markdown",
   "metadata": {
    "colab_type": "text",
    "id": "_c2TaTad4up8"
   },
   "source": [
    " <h2>4.3. svm with mean</h2>"
   ]
  },
  {
   "cell_type": "code",
   "execution_count": null,
   "metadata": {
    "scrolled": false
   },
   "outputs": [
    {
     "name": "stdout",
     "output_type": "stream",
     "text": [
      "Fitting 8 folds for each of 9 candidates, totalling 72 fits\n"
     ]
    },
    {
     "name": "stderr",
     "output_type": "stream",
     "text": [
      "[Parallel(n_jobs=-1)]: Using backend LokyBackend with 8 concurrent workers.\n"
     ]
    }
   ],
   "source": [
    "parameters = {\"C\": [10 ** x for x in range(-6, 3)]}\n",
    "\n",
    "#Gridsearch CV with 8 fold crossvalidation\n",
    "\n",
    "svc = SVC()    \n",
    "GCV = GridSearchCV(svc,param_grid=parameters, scoring = \"f1\", verbose = 1,cv=8, n_jobs = -1)\n",
    "GCV.fit(X_train_mean_std , y_train_mean )"
   ]
  },
  {
   "cell_type": "code",
   "execution_count": 63,
   "metadata": {
    "colab": {
     "base_uri": "https://localhost:8080/",
     "height": 163
    },
    "colab_type": "code",
    "executionInfo": {
     "elapsed": 899,
     "status": "error",
     "timestamp": 1564929319118,
     "user": {
      "displayName": "sandeep Burra",
      "photoUrl": "",
      "userId": "00094485018250843945"
     },
     "user_tz": -330
    },
    "id": "Poi3G4GX4uqZ",
    "outputId": "b69ef211-da7c-4a71-eddd-5fba8098c5b7"
   },
   "outputs": [],
   "source": [
    "clf= GCV.best_estimator_"
   ]
  },
  {
   "cell_type": "code",
   "execution_count": 64,
   "metadata": {
    "colab": {
     "base_uri": "https://localhost:8080/",
     "height": 136
    },
    "colab_type": "code",
    "executionInfo": {
     "elapsed": 2310,
     "status": "ok",
     "timestamp": 1564913527305,
     "user": {
      "displayName": "sandeep Burra",
      "photoUrl": "",
      "userId": "00094485018250843945"
     },
     "user_tz": -330
    },
    "id": "gxwiHLyN81dd",
    "outputId": "bbb0ecaf-8e0e-4b1e-9d4d-0cc8307d30b8"
   },
   "outputs": [
    {
     "data": {
      "text/plain": [
       "SGDClassifier(alpha=0.001, average=False, class_weight=None,\n",
       "       early_stopping=False, epsilon=0.1, eta0=0.0, fit_intercept=True,\n",
       "       l1_ratio=0.15, learning_rate='optimal', loss='hinge', max_iter=None,\n",
       "       n_iter=None, n_iter_no_change=5, n_jobs=None, penalty='l2',\n",
       "       power_t=0.5, random_state=None, shuffle=True, tol=None,\n",
       "       validation_fraction=0.1, verbose=0, warm_start=False)"
      ]
     },
     "execution_count": 64,
     "metadata": {},
     "output_type": "execute_result"
    }
   ],
   "source": [
    "GCV.best_estimator_"
   ]
  },
  {
   "cell_type": "code",
   "execution_count": 68,
   "metadata": {
    "colab": {
     "base_uri": "https://localhost:8080/",
     "height": 513
    },
    "colab_type": "code",
    "executionInfo": {
     "elapsed": 172617,
     "status": "ok",
     "timestamp": 1564913712315,
     "user": {
      "displayName": "sandeep Burra",
      "photoUrl": "",
      "userId": "00094485018250843945"
     },
     "user_tz": -330
    },
    "id": "Jmyg8mW61H5F",
    "outputId": "4ec40da0-2c92-432f-ac9b-f84fae837ae3",
    "scrolled": false
   },
   "outputs": [
    {
     "data": {
      "image/png": "[encoded data removed]",
      "text/plain": [
       "<Figure size 576x576 with 1 Axes>"
      ]
     },
     "metadata": {
      "needs_background": "light"
     },
     "output_type": "display_data"
    }
   ],
   "source": [
    "x_t, x_c, y_t, y_c = train_test_split(X_train_mean_std , y_train_mean, stratify=y_train_mean, test_size=0.3)\n",
    "clf.fit(x_t, y_t)\n",
    "sig_clf = CalibratedClassifierCV(clf, method=\"sigmoid\")\n",
    "sig_clf.fit(x_t, y_t)\n",
    "sig_clf_probs = sig_clf.predict_proba(x_c)[:,1]\n",
    "presicision, recall, tresholds =precision_recall_curve(y_c,sig_clf_probs)\n",
    "plot_precision_recall_vs_threshold(presicision, recall, tresholds)"
   ]
  },
  {
   "cell_type": "code",
   "execution_count": 69,
   "metadata": {
    "colab": {},
    "colab_type": "code",
    "id": "1u2Ta8yL3WSp"
   },
   "outputs": [],
   "source": [
    "t=0.25"
   ]
  },
  {
   "cell_type": "code",
   "execution_count": 70,
   "metadata": {
    "colab": {},
    "colab_type": "code",
    "id": "ICwHj_ij3WS0"
   },
   "outputs": [],
   "source": [
    "clf= GCV.best_estimator_\n",
    "clf.fit(X_train_mean_std , y_train_mean)\n",
    "sig_clf = CalibratedClassifierCV(clf, method=\"sigmoid\")\n",
    "sig_clf.fit(X_train_mean_std , y_train_mean)\n",
    "test_clf_probs = sig_clf.predict_proba(X_test_mean_std)[:,1]\n",
    "train_clf_probs = sig_clf.predict_proba(X_train_mean_std)[:,1]"
   ]
  },
  {
   "cell_type": "code",
   "execution_count": 71,
   "metadata": {
    "colab": {},
    "colab_type": "code",
    "id": "Y9daN3_s3WS5"
   },
   "outputs": [],
   "source": [
    "train_predictions = pred_with_threshold(train_clf_probs,t)\n",
    "test_predictions = pred_with_threshold(test_clf_probs,t)"
   ]
  },
  {
   "cell_type": "code",
   "execution_count": 72,
   "metadata": {
    "colab": {
     "base_uri": "https://localhost:8080/",
     "height": 675
    },
    "colab_type": "code",
    "executionInfo": {
     "elapsed": 1492,
     "status": "ok",
     "timestamp": 1564913924876,
     "user": {
      "displayName": "sandeep Burra",
      "photoUrl": "",
      "userId": "00094485018250843945"
     },
     "user_tz": -330
    },
    "id": "JNVNHDNC3WS-",
    "outputId": "a9dfe515-b474-4f9e-9be7-2b1e58557053",
    "scrolled": true
   },
   "outputs": [
    {
     "name": "stdout",
     "output_type": "stream",
     "text": [
      "Train Confusion Matrix\n"
     ]
    },
    {
     "data": {
      "image/png": "[encoded data removed]",
      "text/plain": [
       "<Figure size 576x288 with 2 Axes>"
      ]
     },
     "metadata": {
      "needs_background": "light"
     },
     "output_type": "display_data"
    },
    {
     "name": "stdout",
     "output_type": "stream",
     "text": [
      "f1_score : 0.9661510757757221\n",
      "Total Cost due to mis classifiation: 1082570\n",
      "Test Confusion Matrix\n"
     ]
    },
    {
     "data": {
      "image/png": "[encoded data removed]",
      "text/plain": [
       "<Figure size 576x288 with 2 Axes>"
      ]
     },
     "metadata": {
      "needs_background": "light"
     },
     "output_type": "display_data"
    },
    {
     "name": "stdout",
     "output_type": "stream",
     "text": [
      "f1_score : 0.5891089108910891\n",
      "Total Cost due to mis classifiation: 13800\n"
     ]
    }
   ],
   "source": [
    "print(\"Train Confusion Matrix\")\n",
    "plot_confusion_matrix(y_train_mean, train_predictions)\n",
    "print(\"Test Confusion Matrix\")\n",
    "plot_confusion_matrix(y_test, test_predictions)"
   ]
  },
  {
   "cell_type": "markdown",
   "metadata": {
    "colab_type": "text",
    "id": "_c2TaTad4up8"
   },
   "source": [
    " <h2>4.3. Linear\\logistic Regression with mean</h2>"
   ]
  },
  {
   "cell_type": "code",
   "execution_count": 62,
   "metadata": {
    "scrolled": true
   },
   "outputs": [
    {
     "name": "stdout",
     "output_type": "stream",
     "text": [
      "Fitting 8 folds for each of 36 candidates, totalling 288 fits\n"
     ]
    },
    {
     "name": "stderr",
     "output_type": "stream",
     "text": [
      "[Parallel(n_jobs=-1)]: Using backend LokyBackend with 4 concurrent workers.\n",
      "[Parallel(n_jobs=-1)]: Done  42 tasks      | elapsed:   34.4s\n",
      "[Parallel(n_jobs=-1)]: Done 192 tasks      | elapsed:  2.1min\n",
      "[Parallel(n_jobs=-1)]: Done 288 out of 288 | elapsed:  3.2min finished\n"
     ]
    },
    {
     "data": {
      "text/plain": [
       "GridSearchCV(cv=8, error_score='raise-deprecating',\n",
       "       estimator=SGDClassifier(alpha=0.0001, average=False, class_weight=None,\n",
       "       early_stopping=False, epsilon=0.1, eta0=0.0, fit_intercept=True,\n",
       "       l1_ratio=0.15, learning_rate='optimal', loss='hinge', max_iter=None,\n",
       "       n_iter=None, n_iter_no_change=5, n_jobs=None, penalty='l2',\n",
       "       power_t=0.5, random_state=None, shuffle=True, tol=None,\n",
       "       validation_fraction=0.1, verbose=0, warm_start=False),\n",
       "       fit_params=None, iid='warn', n_jobs=-1,\n",
       "       param_grid={'alpha': [1e-06, 1e-05, 0.0001, 0.001, 0.01, 0.1, 1, 10, 100], 'penalty': ['l2', 'l1'], 'loss': ['log', 'hinge']},\n",
       "       pre_dispatch='2*n_jobs', refit=True, return_train_score='warn',\n",
       "       scoring='f1', verbose=1)"
      ]
     },
     "execution_count": 62,
     "metadata": {},
     "output_type": "execute_result"
    }
   ],
   "source": [
    "parameters = {\"alpha\": [10 ** x for x in range(-6, 3)], \"penalty\" : ['l2','l1'], \"loss\" : ['log','hinge']}\n",
    "\n",
    "#Gridsearch CV with 8 fold crossvalidation\n",
    "\n",
    "LR = SGDClassifier()    \n",
    "GCV = GridSearchCV(LR,param_grid=parameters, scoring = \"f1\", verbose = 1,cv=8, n_jobs = -1)\n",
    "GCV.fit(X_train_mean_std , y_train_mean )"
   ]
  },
  {
   "cell_type": "code",
   "execution_count": 63,
   "metadata": {
    "colab": {
     "base_uri": "https://localhost:8080/",
     "height": 163
    },
    "colab_type": "code",
    "executionInfo": {
     "elapsed": 899,
     "status": "error",
     "timestamp": 1564929319118,
     "user": {
      "displayName": "sandeep Burra",
      "photoUrl": "",
      "userId": "00094485018250843945"
     },
     "user_tz": -330
    },
    "id": "Poi3G4GX4uqZ",
    "outputId": "b69ef211-da7c-4a71-eddd-5fba8098c5b7"
   },
   "outputs": [],
   "source": [
    "clf= GCV.best_estimator_"
   ]
  },
  {
   "cell_type": "code",
   "execution_count": 64,
   "metadata": {
    "colab": {
     "base_uri": "https://localhost:8080/",
     "height": 136
    },
    "colab_type": "code",
    "executionInfo": {
     "elapsed": 2310,
     "status": "ok",
     "timestamp": 1564913527305,
     "user": {
      "displayName": "sandeep Burra",
      "photoUrl": "",
      "userId": "00094485018250843945"
     },
     "user_tz": -330
    },
    "id": "gxwiHLyN81dd",
    "outputId": "bbb0ecaf-8e0e-4b1e-9d4d-0cc8307d30b8"
   },
   "outputs": [
    {
     "data": {
      "text/plain": [
       "SGDClassifier(alpha=0.001, average=False, class_weight=None,\n",
       "       early_stopping=False, epsilon=0.1, eta0=0.0, fit_intercept=True,\n",
       "       l1_ratio=0.15, learning_rate='optimal', loss='hinge', max_iter=None,\n",
       "       n_iter=None, n_iter_no_change=5, n_jobs=None, penalty='l2',\n",
       "       power_t=0.5, random_state=None, shuffle=True, tol=None,\n",
       "       validation_fraction=0.1, verbose=0, warm_start=False)"
      ]
     },
     "execution_count": 64,
     "metadata": {},
     "output_type": "execute_result"
    }
   ],
   "source": [
    "GCV.best_estimator_"
   ]
  },
  {
   "cell_type": "code",
   "execution_count": 68,
   "metadata": {
    "colab": {
     "base_uri": "https://localhost:8080/",
     "height": 513
    },
    "colab_type": "code",
    "executionInfo": {
     "elapsed": 172617,
     "status": "ok",
     "timestamp": 1564913712315,
     "user": {
      "displayName": "sandeep Burra",
      "photoUrl": "",
      "userId": "00094485018250843945"
     },
     "user_tz": -330
    },
    "id": "Jmyg8mW61H5F",
    "outputId": "4ec40da0-2c92-432f-ac9b-f84fae837ae3",
    "scrolled": false
   },
   "outputs": [
    {
     "data": {
      "image/png": "[encoded data removed]",
      "text/plain": [
       "<Figure size 576x576 with 1 Axes>"
      ]
     },
     "metadata": {
      "needs_background": "light"
     },
     "output_type": "display_data"
    }
   ],
   "source": [
    "x_t, x_c, y_t, y_c = train_test_split(X_train_mean_std , y_train_mean, stratify=y_train_mean, test_size=0.3)\n",
    "clf.fit(x_t, y_t)\n",
    "sig_clf = CalibratedClassifierCV(clf, method=\"sigmoid\")\n",
    "sig_clf.fit(x_t, y_t)\n",
    "sig_clf_probs = sig_clf.predict_proba(x_c)[:,1]\n",
    "presicision, recall, tresholds =precision_recall_curve(y_c,sig_clf_probs)\n",
    "plot_precision_recall_vs_threshold(presicision, recall, tresholds)"
   ]
  },
  {
   "cell_type": "code",
   "execution_count": 69,
   "metadata": {
    "colab": {},
    "colab_type": "code",
    "id": "1u2Ta8yL3WSp"
   },
   "outputs": [],
   "source": [
    "t=0.25"
   ]
  },
  {
   "cell_type": "code",
   "execution_count": 70,
   "metadata": {
    "colab": {},
    "colab_type": "code",
    "id": "ICwHj_ij3WS0"
   },
   "outputs": [],
   "source": [
    "clf= GCV.best_estimator_\n",
    "clf.fit(X_train_mean_std , y_train_mean)\n",
    "sig_clf = CalibratedClassifierCV(clf, method=\"sigmoid\")\n",
    "sig_clf.fit(X_train_mean_std , y_train_mean)\n",
    "test_clf_probs = sig_clf.predict_proba(X_test_mean_std)[:,1]\n",
    "train_clf_probs = sig_clf.predict_proba(X_train_mean_std)[:,1]"
   ]
  },
  {
   "cell_type": "code",
   "execution_count": 71,
   "metadata": {
    "colab": {},
    "colab_type": "code",
    "id": "Y9daN3_s3WS5"
   },
   "outputs": [],
   "source": [
    "train_predictions = pred_with_threshold(train_clf_probs,t)\n",
    "test_predictions = pred_with_threshold(test_clf_probs,t)"
   ]
  },
  {
   "cell_type": "code",
   "execution_count": 72,
   "metadata": {
    "colab": {
     "base_uri": "https://localhost:8080/",
     "height": 675
    },
    "colab_type": "code",
    "executionInfo": {
     "elapsed": 1492,
     "status": "ok",
     "timestamp": 1564913924876,
     "user": {
      "displayName": "sandeep Burra",
      "photoUrl": "",
      "userId": "00094485018250843945"
     },
     "user_tz": -330
    },
    "id": "JNVNHDNC3WS-",
    "outputId": "a9dfe515-b474-4f9e-9be7-2b1e58557053",
    "scrolled": true
   },
   "outputs": [
    {
     "name": "stdout",
     "output_type": "stream",
     "text": [
      "Train Confusion Matrix\n"
     ]
    },
    {
     "data": {
      "image/png": "[encoded data removed]",
      "text/plain": [
       "<Figure size 576x288 with 2 Axes>"
      ]
     },
     "metadata": {
      "needs_background": "light"
     },
     "output_type": "display_data"
    },
    {
     "name": "stdout",
     "output_type": "stream",
     "text": [
      "f1_score : 0.9661510757757221\n",
      "Total Cost due to mis classifiation: 1082570\n",
      "Test Confusion Matrix\n"
     ]
    },
    {
     "data": {
      "image/png": "[encoded data removed]",
      "text/plain": [
       "<Figure size 576x288 with 2 Axes>"
      ]
     },
     "metadata": {
      "needs_background": "light"
     },
     "output_type": "display_data"
    },
    {
     "name": "stdout",
     "output_type": "stream",
     "text": [
      "f1_score : 0.5891089108910891\n",
      "Total Cost due to mis classifiation: 13800\n"
     ]
    }
   ],
   "source": [
    "print(\"Train Confusion Matrix\")\n",
    "plot_confusion_matrix(y_train_mean, train_predictions)\n",
    "print(\"Test Confusion Matrix\")\n",
    "plot_confusion_matrix(y_test, test_predictions)"
   ]
  },
  {
   "cell_type": "markdown",
   "metadata": {},
   "source": [
    "### XGB with mean"
   ]
  },
  {
   "cell_type": "code",
   "execution_count": 38,
   "metadata": {
    "colab": {
     "base_uri": "https://localhost:8080/",
     "height": 68
    },
    "colab_type": "code",
    "id": "vfez58Q-pSzt",
    "outputId": "1981299e-dd6e-4d9e-edec-e56669510850",
    "scrolled": false
   },
   "outputs": [
    {
     "name": "stdout",
     "output_type": "stream",
     "text": [
      "Fitting 2 folds for each of 12 candidates, totalling 24 fits\n"
     ]
    },
    {
     "name": "stderr",
     "output_type": "stream",
     "text": [
      "[Parallel(n_jobs=-1)]: Using backend LokyBackend with 8 concurrent workers.\n",
      "[Parallel(n_jobs=-1)]: Done  24 out of  24 | elapsed: 128.1min finished\n"
     ]
    },
    {
     "data": {
      "text/plain": [
       "GridSearchCV(cv=2, error_score='raise-deprecating',\n",
       "             estimator=XGBClassifier(base_score=0.5, booster='gbtree',\n",
       "                                     colsample_bylevel=1, colsample_bynode=1,\n",
       "                                     colsample_bytree=1, gamma=0,\n",
       "                                     learning_rate=0.1, max_delta_step=0,\n",
       "                                     max_depth=3, min_child_weight=1,\n",
       "                                     missing=None, n_estimators=100, n_jobs=1,\n",
       "                                     nthread=None, objective='binary:logistic',\n",
       "                                     random_state=0, reg_alpha=0, reg_lambda=1,\n",
       "                                     scale_pos_weight=1, seed=None, silent=None,\n",
       "                                     subsample=1, verbosity=1),\n",
       "             iid='warn', n_jobs=-1,\n",
       "             param_grid={'max_depth': [5, 8, 10],\n",
       "                         'n_estimators': [300, 500, 1000, 2000]},\n",
       "             pre_dispatch='2*n_jobs', refit=True, return_train_score=False,\n",
       "             scoring='f1', verbose=1)"
      ]
     },
     "execution_count": 38,
     "metadata": {},
     "output_type": "execute_result"
    }
   ],
   "source": [
    "parameters = {\"max_depth\": [5,8,10] , \"n_estimators\":[300,500,1000,2000]}\n",
    "\n",
    "\n",
    "#Gridsearch CV with 2 fold crossvalidation\n",
    "\n",
    "xgb = XGBClassifier()\n",
    "GCV = GridSearchCV(xgb,param_grid=parameters, scoring = \"f1\", verbose = 1,cv=2, n_jobs = -1)\n",
    "GCV.fit(X_train_mean_std , y_train_mean)"
   ]
  },
  {
   "cell_type": "code",
   "execution_count": 39,
   "metadata": {
    "colab": {
     "base_uri": "https://localhost:8080/",
     "height": 163
    },
    "colab_type": "code",
    "executionInfo": {
     "elapsed": 899,
     "status": "error",
     "timestamp": 1564929319118,
     "user": {
      "displayName": "sandeep Burra",
      "photoUrl": "",
      "userId": "00094485018250843945"
     },
     "user_tz": -330
    },
    "id": "Poi3G4GX4uqZ",
    "outputId": "b69ef211-da7c-4a71-eddd-5fba8098c5b7"
   },
   "outputs": [],
   "source": [
    "clf_xgb_mean= GCV.best_estimator_"
   ]
  },
  {
   "cell_type": "code",
   "execution_count": 40,
   "metadata": {
    "colab": {
     "base_uri": "https://localhost:8080/",
     "height": 136
    },
    "colab_type": "code",
    "executionInfo": {
     "elapsed": 2310,
     "status": "ok",
     "timestamp": 1564913527305,
     "user": {
      "displayName": "sandeep Burra",
      "photoUrl": "",
      "userId": "00094485018250843945"
     },
     "user_tz": -330
    },
    "id": "gxwiHLyN81dd",
    "outputId": "bbb0ecaf-8e0e-4b1e-9d4d-0cc8307d30b8"
   },
   "outputs": [
    {
     "data": {
      "text/plain": [
       "XGBClassifier(base_score=0.5, booster='gbtree', colsample_bylevel=1,\n",
       "              colsample_bynode=1, colsample_bytree=1, gamma=0,\n",
       "              learning_rate=0.1, max_delta_step=0, max_depth=10,\n",
       "              min_child_weight=1, missing=None, n_estimators=300, n_jobs=1,\n",
       "              nthread=None, objective='binary:logistic', random_state=0,\n",
       "              reg_alpha=0, reg_lambda=1, scale_pos_weight=1, seed=None,\n",
       "              silent=None, subsample=1, verbosity=1)"
      ]
     },
     "execution_count": 40,
     "metadata": {},
     "output_type": "execute_result"
    }
   ],
   "source": [
    "GCV.best_estimator_"
   ]
  },
  {
   "cell_type": "code",
   "execution_count": 42,
   "metadata": {
    "colab": {
     "base_uri": "https://localhost:8080/",
     "height": 513
    },
    "colab_type": "code",
    "executionInfo": {
     "elapsed": 172617,
     "status": "ok",
     "timestamp": 1564913712315,
     "user": {
      "displayName": "sandeep Burra",
      "photoUrl": "",
      "userId": "00094485018250843945"
     },
     "user_tz": -330
    },
    "id": "Jmyg8mW61H5F",
    "outputId": "4ec40da0-2c92-432f-ac9b-f84fae837ae3",
    "scrolled": false
   },
   "outputs": [
    {
     "data": {
      "image/png": "[encoded data removed]",
      "text/plain": [
       "<Figure size 576x576 with 1 Axes>"
      ]
     },
     "metadata": {},
     "output_type": "display_data"
    }
   ],
   "source": [
    "x_t, x_c, y_t, y_c = train_test_split(X_train_mean_std, y_train_mean, stratify=y_train_mean, test_size=0.3)\n",
    "clf_xgb_mean.fit(x_t, y_t)\n",
    "sig_clf_probs = clf_xgb_mean.predict_proba(x_c)[:,1]\n",
    "#train_predict = clf.predict(x_train)\n",
    "#cross_predict = clf.predict(x_test)\n",
    "presicision, recall, tresholds =precision_recall_curve(y_c,sig_clf_probs)\n",
    "plot_precision_recall_vs_threshold(presicision, recall, tresholds)"
   ]
  },
  {
   "cell_type": "code",
   "execution_count": 45,
   "metadata": {
    "colab": {},
    "colab_type": "code",
    "id": "1u2Ta8yL3WSp"
   },
   "outputs": [],
   "source": [
    "t=0.8"
   ]
  },
  {
   "cell_type": "code",
   "execution_count": 44,
   "metadata": {
    "colab": {},
    "colab_type": "code",
    "id": "ICwHj_ij3WS0"
   },
   "outputs": [
    {
     "data": {
      "text/plain": [
       "XGBClassifier(base_score=0.5, booster='gbtree', colsample_bylevel=1,\n",
       "              colsample_bynode=1, colsample_bytree=1, gamma=0,\n",
       "              learning_rate=0.1, max_delta_step=0, max_depth=10,\n",
       "              min_child_weight=1, missing=None, n_estimators=300, n_jobs=1,\n",
       "              nthread=None, objective='binary:logistic', random_state=0,\n",
       "              reg_alpha=0, reg_lambda=1, scale_pos_weight=1, seed=None,\n",
       "              silent=None, subsample=1, verbosity=1)"
      ]
     },
     "execution_count": 44,
     "metadata": {},
     "output_type": "execute_result"
    }
   ],
   "source": [
    "clf= GCV.best_estimator_\n",
    "clf.fit(X_train_mean_std , y_train_mean)"
   ]
  },
  {
   "cell_type": "code",
   "execution_count": 46,
   "metadata": {},
   "outputs": [],
   "source": [
    "test_clf_probs = clf.predict_proba(X_test_mean_std)[:,1]\n",
    "train_clf_probs = clf.predict_proba(X_train_mean_std)[:,1]"
   ]
  },
  {
   "cell_type": "code",
   "execution_count": 47,
   "metadata": {
    "colab": {},
    "colab_type": "code",
    "id": "Y9daN3_s3WS5"
   },
   "outputs": [],
   "source": [
    "train_predictions = pred_with_threshold(train_clf_probs,t)\n",
    "test_predictions = pred_with_threshold(test_clf_probs,t)"
   ]
  },
  {
   "cell_type": "code",
   "execution_count": 48,
   "metadata": {
    "colab": {
     "base_uri": "https://localhost:8080/",
     "height": 675
    },
    "colab_type": "code",
    "executionInfo": {
     "elapsed": 1492,
     "status": "ok",
     "timestamp": 1564913924876,
     "user": {
      "displayName": "sandeep Burra",
      "photoUrl": "",
      "userId": "00094485018250843945"
     },
     "user_tz": -330
    },
    "id": "JNVNHDNC3WS-",
    "outputId": "a9dfe515-b474-4f9e-9be7-2b1e58557053",
    "scrolled": false
   },
   "outputs": [
    {
     "name": "stdout",
     "output_type": "stream",
     "text": [
      "Train Confusion Matrix\n"
     ]
    },
    {
     "data": {
      "image/png": "[encoded data removed]",
      "text/plain": [
       "<Figure size 576x288 with 2 Axes>"
      ]
     },
     "metadata": {},
     "output_type": "display_data"
    },
    {
     "name": "stdout",
     "output_type": "stream",
     "text": [
      "f1_score : 0.9965285696186494\n",
      "Total Cost due to mis classifiation: 8030\n",
      "Test Confusion Matrix\n"
     ]
    },
    {
     "data": {
      "image/png": "[encoded data removed]",
      "text/plain": [
       "<Figure size 576x288 with 2 Axes>"
      ]
     },
     "metadata": {},
     "output_type": "display_data"
    },
    {
     "name": "stdout",
     "output_type": "stream",
     "text": [
      "f1_score : 0.7516930022573363\n",
      "Total Cost due to mis classifiation: 22780\n"
     ]
    }
   ],
   "source": [
    "print(\"Train Confusion Matrix\")\n",
    "plot_confusion_matrix(y_train_constant, train_predictions)\n",
    "print(\"Test Confusion Matrix\")\n",
    "plot_confusion_matrix(y_test, test_predictions)"
   ]
  },
  {
   "cell_type": "markdown",
   "metadata": {},
   "source": [
    "### Random Forest with mean"
   ]
  },
  {
   "cell_type": "code",
   "execution_count": 49,
   "metadata": {
    "colab": {
     "base_uri": "https://localhost:8080/",
     "height": 68
    },
    "colab_type": "code",
    "id": "vfez58Q-pSzt",
    "outputId": "1981299e-dd6e-4d9e-edec-e56669510850",
    "scrolled": false
   },
   "outputs": [
    {
     "name": "stdout",
     "output_type": "stream",
     "text": [
      "Fitting 2 folds for each of 20 candidates, totalling 40 fits\n"
     ]
    },
    {
     "name": "stderr",
     "output_type": "stream",
     "text": [
      "[Parallel(n_jobs=-1)]: Using backend LokyBackend with 8 concurrent workers.\n",
      "[Parallel(n_jobs=-1)]: Done  40 out of  40 | elapsed: 30.5min finished\n"
     ]
    },
    {
     "data": {
      "text/plain": [
       "GridSearchCV(cv=2, error_score='raise-deprecating',\n",
       "             estimator=RandomForestClassifier(bootstrap=True, class_weight=None,\n",
       "                                              criterion='gini', max_depth=None,\n",
       "                                              max_features='auto',\n",
       "                                              max_leaf_nodes=None,\n",
       "                                              min_impurity_decrease=0.0,\n",
       "                                              min_impurity_split=None,\n",
       "                                              min_samples_leaf=1,\n",
       "                                              min_samples_split=2,\n",
       "                                              min_weight_fraction_leaf=0.0,\n",
       "                                              n_estimators='warn', n_jobs=None,\n",
       "                                              oob_score=False,\n",
       "                                              random_state=None, verbose=0,\n",
       "                                              warm_start=False),\n",
       "             iid='warn', n_jobs=-1,\n",
       "             param_grid={'max_depth': [3, 5, 8, 10],\n",
       "                         'n_estimators': [100, 300, 500, 1000, 2000]},\n",
       "             pre_dispatch='2*n_jobs', refit=True, return_train_score=False,\n",
       "             scoring='f1', verbose=1)"
      ]
     },
     "execution_count": 49,
     "metadata": {},
     "output_type": "execute_result"
    }
   ],
   "source": [
    "parameters = {\"max_depth\": [3,5,8,10] , \"n_estimators\":[100,300,500,1000,2000]}\n",
    "\n",
    "\n",
    "#Gridsearch CV with 2 fold crossvalidation\n",
    "\n",
    "RF = RandomForestClassifier()\n",
    "GCV = GridSearchCV(RF,param_grid=parameters, scoring = \"f1\", verbose = 1,cv=2,n_jobs = -1)\n",
    "GCV.fit(X_train_mean_std , y_train_mean)"
   ]
  },
  {
   "cell_type": "code",
   "execution_count": 50,
   "metadata": {
    "colab": {
     "base_uri": "https://localhost:8080/",
     "height": 163
    },
    "colab_type": "code",
    "executionInfo": {
     "elapsed": 899,
     "status": "error",
     "timestamp": 1564929319118,
     "user": {
      "displayName": "sandeep Burra",
      "photoUrl": "",
      "userId": "00094485018250843945"
     },
     "user_tz": -330
    },
    "id": "Poi3G4GX4uqZ",
    "outputId": "b69ef211-da7c-4a71-eddd-5fba8098c5b7"
   },
   "outputs": [],
   "source": [
    "clf_rf_mean= GCV.best_estimator_"
   ]
  },
  {
   "cell_type": "code",
   "execution_count": 51,
   "metadata": {
    "colab": {
     "base_uri": "https://localhost:8080/",
     "height": 136
    },
    "colab_type": "code",
    "executionInfo": {
     "elapsed": 2310,
     "status": "ok",
     "timestamp": 1564913527305,
     "user": {
      "displayName": "sandeep Burra",
      "photoUrl": "",
      "userId": "00094485018250843945"
     },
     "user_tz": -330
    },
    "id": "gxwiHLyN81dd",
    "outputId": "bbb0ecaf-8e0e-4b1e-9d4d-0cc8307d30b8"
   },
   "outputs": [
    {
     "data": {
      "text/plain": [
       "RandomForestClassifier(bootstrap=True, class_weight=None, criterion='gini',\n",
       "                       max_depth=10, max_features='auto', max_leaf_nodes=None,\n",
       "                       min_impurity_decrease=0.0, min_impurity_split=None,\n",
       "                       min_samples_leaf=1, min_samples_split=2,\n",
       "                       min_weight_fraction_leaf=0.0, n_estimators=500,\n",
       "                       n_jobs=None, oob_score=False, random_state=None,\n",
       "                       verbose=0, warm_start=False)"
      ]
     },
     "execution_count": 51,
     "metadata": {},
     "output_type": "execute_result"
    }
   ],
   "source": [
    "GCV.best_estimator_"
   ]
  },
  {
   "cell_type": "code",
   "execution_count": 52,
   "metadata": {
    "colab": {
     "base_uri": "https://localhost:8080/",
     "height": 513
    },
    "colab_type": "code",
    "executionInfo": {
     "elapsed": 172617,
     "status": "ok",
     "timestamp": 1564913712315,
     "user": {
      "displayName": "sandeep Burra",
      "photoUrl": "",
      "userId": "00094485018250843945"
     },
     "user_tz": -330
    },
    "id": "Jmyg8mW61H5F",
    "outputId": "4ec40da0-2c92-432f-ac9b-f84fae837ae3",
    "scrolled": false
   },
   "outputs": [
    {
     "data": {
      "image/png": "[encoded data removed]",
      "text/plain": [
       "<Figure size 576x576 with 1 Axes>"
      ]
     },
     "metadata": {},
     "output_type": "display_data"
    }
   ],
   "source": [
    "x_t, x_c, y_t, y_c = train_test_split(X_train_mean_std , y_train_mean, stratify=y_train_mean, test_size=0.3)\n",
    "clf_rf_mean.fit(x_t, y_t)\n",
    "sig_clf_probs = clf_rf_mean.predict_proba(x_c)[:,1]\n",
    "#train_predict = clf.predict(x_train)\n",
    "#cross_predict = clf.predict(x_test)\n",
    "presicision, recall, tresholds =precision_recall_curve(y_c,sig_clf_probs)\n",
    "plot_precision_recall_vs_threshold(presicision, recall, tresholds)"
   ]
  },
  {
   "cell_type": "code",
   "execution_count": 53,
   "metadata": {
    "colab": {},
    "colab_type": "code",
    "id": "1u2Ta8yL3WSp"
   },
   "outputs": [],
   "source": [
    "t=0.6"
   ]
  },
  {
   "cell_type": "code",
   "execution_count": 54,
   "metadata": {
    "colab": {},
    "colab_type": "code",
    "id": "ICwHj_ij3WS0"
   },
   "outputs": [
    {
     "data": {
      "text/plain": [
       "RandomForestClassifier(bootstrap=True, class_weight=None, criterion='gini',\n",
       "                       max_depth=10, max_features='auto', max_leaf_nodes=None,\n",
       "                       min_impurity_decrease=0.0, min_impurity_split=None,\n",
       "                       min_samples_leaf=1, min_samples_split=2,\n",
       "                       min_weight_fraction_leaf=0.0, n_estimators=500,\n",
       "                       n_jobs=None, oob_score=False, random_state=None,\n",
       "                       verbose=0, warm_start=False)"
      ]
     },
     "execution_count": 54,
     "metadata": {},
     "output_type": "execute_result"
    }
   ],
   "source": [
    "clf= GCV.best_estimator_\n",
    "clf.fit(X_train_mean_std , y_train_mean)"
   ]
  },
  {
   "cell_type": "code",
   "execution_count": 55,
   "metadata": {},
   "outputs": [],
   "source": [
    "test_clf_probs = clf.predict_proba(X_test_mean_std)[:,1]\n",
    "train_clf_probs = clf.predict_proba(X_train_mean_std)[:,1]"
   ]
  },
  {
   "cell_type": "code",
   "execution_count": 56,
   "metadata": {
    "colab": {},
    "colab_type": "code",
    "id": "Y9daN3_s3WS5"
   },
   "outputs": [],
   "source": [
    "train_predictions = pred_with_threshold(train_clf_probs,t)\n",
    "test_predictions = pred_with_threshold(test_clf_probs,t)"
   ]
  },
  {
   "cell_type": "code",
   "execution_count": 57,
   "metadata": {
    "colab": {
     "base_uri": "https://localhost:8080/",
     "height": 675
    },
    "colab_type": "code",
    "executionInfo": {
     "elapsed": 1492,
     "status": "ok",
     "timestamp": 1564913924876,
     "user": {
      "displayName": "sandeep Burra",
      "photoUrl": "",
      "userId": "00094485018250843945"
     },
     "user_tz": -330
    },
    "id": "JNVNHDNC3WS-",
    "outputId": "a9dfe515-b474-4f9e-9be7-2b1e58557053",
    "scrolled": false
   },
   "outputs": [
    {
     "name": "stdout",
     "output_type": "stream",
     "text": [
      "Train Confusion Matrix\n"
     ]
    },
    {
     "data": {
      "image/png": "[encoded data removed]",
      "text/plain": [
       "<Figure size 576x288 with 2 Axes>"
      ]
     },
     "metadata": {},
     "output_type": "display_data"
    },
    {
     "name": "stdout",
     "output_type": "stream",
     "text": [
      "f1_score : 0.9839371555868214\n",
      "Total Cost due to mis classifiation: 144620\n",
      "Test Confusion Matrix\n"
     ]
    },
    {
     "data": {
      "image/png": "[encoded data removed]",
      "text/plain": [
       "<Figure size 576x288 with 2 Axes>"
      ]
     },
     "metadata": {},
     "output_type": "display_data"
    },
    {
     "name": "stdout",
     "output_type": "stream",
     "text": [
      "f1_score : 0.5952184666117064\n",
      "Total Cost due to mis classifiation: 11770\n"
     ]
    }
   ],
   "source": [
    "print(\"Train Confusion Matrix\")\n",
    "plot_confusion_matrix(y_train_constant, train_predictions)\n",
    "print(\"Test Confusion Matrix\")\n",
    "plot_confusion_matrix(y_test, test_predictions)"
   ]
  },
  {
   "cell_type": "markdown",
   "metadata": {
    "colab_type": "text",
    "id": "_c2TaTad4up8"
   },
   "source": [
    " <h2>Linear\\logistic Regression with median</h2>"
   ]
  },
  {
   "cell_type": "code",
   "execution_count": 52,
   "metadata": {
    "scrolled": false
   },
   "outputs": [
    {
     "name": "stdout",
     "output_type": "stream",
     "text": [
      "Fitting 8 folds for each of 36 candidates, totalling 288 fits\n"
     ]
    },
    {
     "name": "stderr",
     "output_type": "stream",
     "text": [
      "[Parallel(n_jobs=-1)]: Using backend LokyBackend with 8 concurrent workers.\n",
      "[Parallel(n_jobs=-1)]: Done  34 tasks      | elapsed:  2.2min\n",
      "[Parallel(n_jobs=-1)]: Done 184 tasks      | elapsed:  7.9min\n",
      "[Parallel(n_jobs=-1)]: Done 288 out of 288 | elapsed:  8.5min finished\n"
     ]
    },
    {
     "data": {
      "text/plain": [
       "GridSearchCV(cv=8, error_score='raise-deprecating',\n",
       "             estimator=SGDClassifier(alpha=0.0001, average=False,\n",
       "                                     class_weight=None, early_stopping=False,\n",
       "                                     epsilon=0.1, eta0=0.0, fit_intercept=True,\n",
       "                                     l1_ratio=0.15, learning_rate='optimal',\n",
       "                                     loss='hinge', max_iter=1000,\n",
       "                                     n_iter_no_change=5, n_jobs=None,\n",
       "                                     penalty='l2', power_t=0.5,\n",
       "                                     random_state=None, shuffle=True, tol=0.001,\n",
       "                                     validation_fraction=0.1, verbose=0,\n",
       "                                     warm_start=False),\n",
       "             iid='warn', n_jobs=-1,\n",
       "             param_grid={'alpha': [1e-06, 1e-05, 0.0001, 0.001, 0.01, 0.1, 1,\n",
       "                                   10, 100],\n",
       "                         'loss': ['log', 'hinge'], 'penalty': ['l2', 'l1']},\n",
       "             pre_dispatch='2*n_jobs', refit=True, return_train_score=False,\n",
       "             scoring='f1', verbose=1)"
      ]
     },
     "execution_count": 52,
     "metadata": {},
     "output_type": "execute_result"
    }
   ],
   "source": [
    "parameters = {\"alpha\": [10 ** x for x in range(-6, 3)], \"penalty\" : ['l2','l1'], \"loss\" : ['log','hinge']}\n",
    "\n",
    "#Gridsearch CV with 8 fold crossvalidation\n",
    "\n",
    "LR = SGDClassifier()    \n",
    "GCV = GridSearchCV(LR,param_grid=parameters, scoring = \"f1\", verbose = 1,cv=8, n_jobs = -1)\n",
    "GCV.fit(X_train_median_std , y_train_median )"
   ]
  },
  {
   "cell_type": "code",
   "execution_count": 53,
   "metadata": {
    "colab": {
     "base_uri": "https://localhost:8080/",
     "height": 163
    },
    "colab_type": "code",
    "executionInfo": {
     "elapsed": 899,
     "status": "error",
     "timestamp": 1564929319118,
     "user": {
      "displayName": "sandeep Burra",
      "photoUrl": "",
      "userId": "00094485018250843945"
     },
     "user_tz": -330
    },
    "id": "Poi3G4GX4uqZ",
    "outputId": "b69ef211-da7c-4a71-eddd-5fba8098c5b7"
   },
   "outputs": [],
   "source": [
    "clf_sgd_median= GCV.best_estimator_"
   ]
  },
  {
   "cell_type": "code",
   "execution_count": 54,
   "metadata": {
    "colab": {
     "base_uri": "https://localhost:8080/",
     "height": 136
    },
    "colab_type": "code",
    "executionInfo": {
     "elapsed": 2310,
     "status": "ok",
     "timestamp": 1564913527305,
     "user": {
      "displayName": "sandeep Burra",
      "photoUrl": "",
      "userId": "00094485018250843945"
     },
     "user_tz": -330
    },
    "id": "gxwiHLyN81dd",
    "outputId": "bbb0ecaf-8e0e-4b1e-9d4d-0cc8307d30b8"
   },
   "outputs": [
    {
     "data": {
      "text/plain": [
       "SGDClassifier(alpha=0.0001, average=False, class_weight=None,\n",
       "              early_stopping=False, epsilon=0.1, eta0=0.0, fit_intercept=True,\n",
       "              l1_ratio=0.15, learning_rate='optimal', loss='hinge',\n",
       "              max_iter=1000, n_iter_no_change=5, n_jobs=None, penalty='l2',\n",
       "              power_t=0.5, random_state=None, shuffle=True, tol=0.001,\n",
       "              validation_fraction=0.1, verbose=0, warm_start=False)"
      ]
     },
     "execution_count": 54,
     "metadata": {},
     "output_type": "execute_result"
    }
   ],
   "source": [
    "GCV.best_estimator_"
   ]
  },
  {
   "cell_type": "code",
   "execution_count": 55,
   "metadata": {
    "colab": {
     "base_uri": "https://localhost:8080/",
     "height": 513
    },
    "colab_type": "code",
    "executionInfo": {
     "elapsed": 172617,
     "status": "ok",
     "timestamp": 1564913712315,
     "user": {
      "displayName": "sandeep Burra",
      "photoUrl": "",
      "userId": "00094485018250843945"
     },
     "user_tz": -330
    },
    "id": "Jmyg8mW61H5F",
    "outputId": "4ec40da0-2c92-432f-ac9b-f84fae837ae3",
    "scrolled": false
   },
   "outputs": [
    {
     "data": {
      "image/png": "[encoded data removed]",
      "text/plain": [
       "<Figure size 576x576 with 1 Axes>"
      ]
     },
     "metadata": {},
     "output_type": "display_data"
    }
   ],
   "source": [
    "x_t, x_c, y_t, y_c = train_test_split(X_train_median_std , y_train_median, stratify=y_train_median, test_size=0.3)\n",
    "clf_sgd_median.fit(x_t, y_t)\n",
    "sig_clf = CalibratedClassifierCV(clf_sgd_median, method=\"sigmoid\")\n",
    "sig_clf.fit(x_t, y_t)\n",
    "sig_clf_probs = sig_clf.predict_proba(x_c)[:,1]\n",
    "presicision, recall, tresholds =precision_recall_curve(y_c,sig_clf_probs)\n",
    "plot_precision_recall_vs_threshold(presicision, recall, tresholds)"
   ]
  },
  {
   "cell_type": "code",
   "execution_count": 56,
   "metadata": {
    "colab": {},
    "colab_type": "code",
    "id": "1u2Ta8yL3WSp"
   },
   "outputs": [],
   "source": [
    "t=0.32"
   ]
  },
  {
   "cell_type": "code",
   "execution_count": 57,
   "metadata": {
    "colab": {},
    "colab_type": "code",
    "id": "ICwHj_ij3WS0"
   },
   "outputs": [],
   "source": [
    "clf= GCV.best_estimator_\n",
    "clf.fit(X_train_median_std , y_train_median)\n",
    "sig_clf = CalibratedClassifierCV(clf, method=\"sigmoid\")\n",
    "sig_clf.fit(X_train_median_std , y_train_median)\n",
    "test_clf_probs = sig_clf.predict_proba(X_test_median_std)[:,1]\n",
    "train_clf_probs = sig_clf.predict_proba(X_train_median_std)[:,1]"
   ]
  },
  {
   "cell_type": "code",
   "execution_count": 58,
   "metadata": {
    "colab": {},
    "colab_type": "code",
    "id": "Y9daN3_s3WS5"
   },
   "outputs": [],
   "source": [
    "train_predictions = pred_with_threshold(train_clf_probs,t)\n",
    "test_predictions = pred_with_threshold(test_clf_probs,t)"
   ]
  },
  {
   "cell_type": "code",
   "execution_count": 59,
   "metadata": {
    "colab": {
     "base_uri": "https://localhost:8080/",
     "height": 675
    },
    "colab_type": "code",
    "executionInfo": {
     "elapsed": 1492,
     "status": "ok",
     "timestamp": 1564913924876,
     "user": {
      "displayName": "sandeep Burra",
      "photoUrl": "",
      "userId": "00094485018250843945"
     },
     "user_tz": -330
    },
    "id": "JNVNHDNC3WS-",
    "outputId": "a9dfe515-b474-4f9e-9be7-2b1e58557053",
    "scrolled": false
   },
   "outputs": [
    {
     "name": "stdout",
     "output_type": "stream",
     "text": [
      "Train Confusion Matrix\n"
     ]
    },
    {
     "data": {
      "image/png": "[encoded data removed]",
      "text/plain": [
       "<Figure size 576x288 with 2 Axes>"
      ]
     },
     "metadata": {},
     "output_type": "display_data"
    },
    {
     "name": "stdout",
     "output_type": "stream",
     "text": [
      "f1_score : 0.969504146217634\n",
      "Total Cost due to mis classifiation: 874920\n",
      "Test Confusion Matrix\n"
     ]
    },
    {
     "data": {
      "image/png": "[encoded data removed]",
      "text/plain": [
       "<Figure size 576x288 with 2 Axes>"
      ]
     },
     "metadata": {},
     "output_type": "display_data"
    },
    {
     "name": "stdout",
     "output_type": "stream",
     "text": [
      "f1_score : 0.5686433793663689\n",
      "Total Cost due to mis classifiation: 17560\n"
     ]
    }
   ],
   "source": [
    "print(\"Train Confusion Matrix\")\n",
    "plot_confusion_matrix(y_train_median, train_predictions)\n",
    "print(\"Test Confusion Matrix\")\n",
    "plot_confusion_matrix(y_test, test_predictions)"
   ]
  },
  {
   "cell_type": "markdown",
   "metadata": {},
   "source": [
    "### XGB with median"
   ]
  },
  {
   "cell_type": "code",
   "execution_count": 38,
   "metadata": {
    "colab": {
     "base_uri": "https://localhost:8080/",
     "height": 68
    },
    "colab_type": "code",
    "id": "vfez58Q-pSzt",
    "outputId": "1981299e-dd6e-4d9e-edec-e56669510850",
    "scrolled": false
   },
   "outputs": [
    {
     "name": "stdout",
     "output_type": "stream",
     "text": [
      "Fitting 2 folds for each of 12 candidates, totalling 24 fits\n"
     ]
    },
    {
     "name": "stderr",
     "output_type": "stream",
     "text": [
      "[Parallel(n_jobs=-1)]: Using backend LokyBackend with 8 concurrent workers.\n",
      "[Parallel(n_jobs=-1)]: Done  24 out of  24 | elapsed: 181.5min finished\n"
     ]
    },
    {
     "data": {
      "text/plain": [
       "GridSearchCV(cv=2, error_score='raise-deprecating',\n",
       "             estimator=XGBClassifier(base_score=0.5, booster='gbtree',\n",
       "                                     colsample_bylevel=1, colsample_bynode=1,\n",
       "                                     colsample_bytree=1, gamma=0,\n",
       "                                     learning_rate=0.1, max_delta_step=0,\n",
       "                                     max_depth=3, min_child_weight=1,\n",
       "                                     missing=None, n_estimators=100, n_jobs=1,\n",
       "                                     nthread=None, objective='binary:logistic',\n",
       "                                     random_state=0, reg_alpha=0, reg_lambda=1,\n",
       "                                     scale_pos_weight=1, seed=None, silent=None,\n",
       "                                     subsample=1, verbosity=1),\n",
       "             iid='warn', n_jobs=-1,\n",
       "             param_grid={'max_depth': [5, 8, 10],\n",
       "                         'n_estimators': [300, 500, 1000, 2000]},\n",
       "             pre_dispatch='2*n_jobs', refit=True, return_train_score=False,\n",
       "             scoring='f1', verbose=1)"
      ]
     },
     "execution_count": 38,
     "metadata": {},
     "output_type": "execute_result"
    }
   ],
   "source": [
    "parameters = {\"max_depth\": [5,8,10] , \"n_estimators\":[300,500,1000,2000]}\n",
    "\n",
    "\n",
    "#Gridsearch CV with 2 fold crossvalidation\n",
    "\n",
    "xgb = XGBClassifier()\n",
    "GCV = GridSearchCV(xgb,param_grid=parameters, scoring = \"f1\", verbose = 1,cv=2,n_jobs = -1)\n",
    "GCV.fit(X_train_median_std , y_train_median)"
   ]
  },
  {
   "cell_type": "code",
   "execution_count": 39,
   "metadata": {
    "colab": {
     "base_uri": "https://localhost:8080/",
     "height": 163
    },
    "colab_type": "code",
    "executionInfo": {
     "elapsed": 899,
     "status": "error",
     "timestamp": 1564929319118,
     "user": {
      "displayName": "sandeep Burra",
      "photoUrl": "",
      "userId": "00094485018250843945"
     },
     "user_tz": -330
    },
    "id": "Poi3G4GX4uqZ",
    "outputId": "b69ef211-da7c-4a71-eddd-5fba8098c5b7"
   },
   "outputs": [],
   "source": [
    "clf_xgb_median= GCV.best_estimator_"
   ]
  },
  {
   "cell_type": "code",
   "execution_count": 40,
   "metadata": {
    "colab": {
     "base_uri": "https://localhost:8080/",
     "height": 136
    },
    "colab_type": "code",
    "executionInfo": {
     "elapsed": 2310,
     "status": "ok",
     "timestamp": 1564913527305,
     "user": {
      "displayName": "sandeep Burra",
      "photoUrl": "",
      "userId": "00094485018250843945"
     },
     "user_tz": -330
    },
    "id": "gxwiHLyN81dd",
    "outputId": "bbb0ecaf-8e0e-4b1e-9d4d-0cc8307d30b8"
   },
   "outputs": [
    {
     "data": {
      "text/plain": [
       "XGBClassifier(base_score=0.5, booster='gbtree', colsample_bylevel=1,\n",
       "              colsample_bynode=1, colsample_bytree=1, gamma=0,\n",
       "              learning_rate=0.1, max_delta_step=0, max_depth=10,\n",
       "              min_child_weight=1, missing=None, n_estimators=300, n_jobs=1,\n",
       "              nthread=None, objective='binary:logistic', random_state=0,\n",
       "              reg_alpha=0, reg_lambda=1, scale_pos_weight=1, seed=None,\n",
       "              silent=None, subsample=1, verbosity=1)"
      ]
     },
     "execution_count": 40,
     "metadata": {},
     "output_type": "execute_result"
    }
   ],
   "source": [
    "GCV.best_estimator_"
   ]
  },
  {
   "cell_type": "code",
   "execution_count": 46,
   "metadata": {
    "colab": {
     "base_uri": "https://localhost:8080/",
     "height": 513
    },
    "colab_type": "code",
    "executionInfo": {
     "elapsed": 172617,
     "status": "ok",
     "timestamp": 1564913712315,
     "user": {
      "displayName": "sandeep Burra",
      "photoUrl": "",
      "userId": "00094485018250843945"
     },
     "user_tz": -330
    },
    "id": "Jmyg8mW61H5F",
    "outputId": "4ec40da0-2c92-432f-ac9b-f84fae837ae3",
    "scrolled": false
   },
   "outputs": [
    {
     "data": {
      "image/png": "[encoded data removed]",
      "text/plain": [
       "<Figure size 576x576 with 1 Axes>"
      ]
     },
     "metadata": {},
     "output_type": "display_data"
    }
   ],
   "source": [
    "x_t, x_c, y_t, y_c = train_test_split(X_train_median_std, y_train_median, stratify=y_train_median, test_size=0.3)\n",
    "clf_xgb_median.fit(x_t, y_t)\n",
    "sig_clf_probs = clf_xgb_median.predict_proba(x_c)[:,1]\n",
    "#train_predict = clf.predict(x_train)\n",
    "#cross_predict = clf.predict(x_test)\n",
    "presicision, recall, tresholds =precision_recall_curve(y_c,sig_clf_probs)\n",
    "plot_precision_recall_vs_threshold(presicision, recall, tresholds)"
   ]
  },
  {
   "cell_type": "code",
   "execution_count": 47,
   "metadata": {
    "colab": {},
    "colab_type": "code",
    "id": "1u2Ta8yL3WSp"
   },
   "outputs": [],
   "source": [
    "t=0.8"
   ]
  },
  {
   "cell_type": "code",
   "execution_count": 48,
   "metadata": {
    "colab": {},
    "colab_type": "code",
    "id": "ICwHj_ij3WS0"
   },
   "outputs": [
    {
     "data": {
      "text/plain": [
       "XGBClassifier(base_score=0.5, booster='gbtree', colsample_bylevel=1,\n",
       "              colsample_bynode=1, colsample_bytree=1, gamma=0,\n",
       "              learning_rate=0.1, max_delta_step=0, max_depth=10,\n",
       "              min_child_weight=1, missing=None, n_estimators=300, n_jobs=1,\n",
       "              nthread=None, objective='binary:logistic', random_state=0,\n",
       "              reg_alpha=0, reg_lambda=1, scale_pos_weight=1, seed=None,\n",
       "              silent=None, subsample=1, verbosity=1)"
      ]
     },
     "execution_count": 48,
     "metadata": {},
     "output_type": "execute_result"
    }
   ],
   "source": [
    "clf_xgb_median.fit(X_train_median_std , y_train_median)"
   ]
  },
  {
   "cell_type": "code",
   "execution_count": 49,
   "metadata": {},
   "outputs": [],
   "source": [
    "test_clf_probs = clf_xgb_median.predict_proba(X_test_mean_std)[:,1]\n",
    "train_clf_probs = clf_xgb_median.predict_proba(X_train_mean_std)[:,1]"
   ]
  },
  {
   "cell_type": "code",
   "execution_count": 50,
   "metadata": {
    "colab": {},
    "colab_type": "code",
    "id": "Y9daN3_s3WS5"
   },
   "outputs": [],
   "source": [
    "train_predictions = pred_with_threshold(train_clf_probs,t)\n",
    "test_predictions = pred_with_threshold(test_clf_probs,t)"
   ]
  },
  {
   "cell_type": "code",
   "execution_count": 51,
   "metadata": {
    "colab": {
     "base_uri": "https://localhost:8080/",
     "height": 675
    },
    "colab_type": "code",
    "executionInfo": {
     "elapsed": 1492,
     "status": "ok",
     "timestamp": 1564913924876,
     "user": {
      "displayName": "sandeep Burra",
      "photoUrl": "",
      "userId": "00094485018250843945"
     },
     "user_tz": -330
    },
    "id": "JNVNHDNC3WS-",
    "outputId": "a9dfe515-b474-4f9e-9be7-2b1e58557053",
    "scrolled": true
   },
   "outputs": [
    {
     "name": "stdout",
     "output_type": "stream",
     "text": [
      "Train Confusion Matrix\n"
     ]
    },
    {
     "data": {
      "image/png": "[encoded data removed]",
      "text/plain": [
       "<Figure size 576x288 with 2 Axes>"
      ]
     },
     "metadata": {},
     "output_type": "display_data"
    },
    {
     "name": "stdout",
     "output_type": "stream",
     "text": [
      "f1_score : 0.9754020255171308\n",
      "Total Cost due to mis classifiation: 600020\n",
      "Test Confusion Matrix\n"
     ]
    },
    {
     "data": {
      "image/png": "[encoded data removed]",
      "text/plain": [
       "<Figure size 576x288 with 2 Axes>"
      ]
     },
     "metadata": {},
     "output_type": "display_data"
    },
    {
     "name": "stdout",
     "output_type": "stream",
     "text": [
      "f1_score : 0.5521172638436482\n",
      "Total Cost due to mis classifiation: 23140\n"
     ]
    }
   ],
   "source": [
    "print(\"Train Confusion Matrix\")\n",
    "plot_confusion_matrix(y_train_median, train_predictions)\n",
    "print(\"Test Confusion Matrix\")\n",
    "plot_confusion_matrix(y_test, test_predictions)"
   ]
  },
  {
   "cell_type": "markdown",
   "metadata": {
    "colab_type": "text",
    "id": "17SagsSJo5IT"
   },
   "source": [
    "# RandomForest with median"
   ]
  },
  {
   "cell_type": "code",
   "execution_count": 48,
   "metadata": {
    "colab": {
     "base_uri": "https://localhost:8080/",
     "height": 68
    },
    "colab_type": "code",
    "id": "vfez58Q-pSzt",
    "outputId": "1981299e-dd6e-4d9e-edec-e56669510850",
    "scrolled": false
   },
   "outputs": [
    {
     "name": "stdout",
     "output_type": "stream",
     "text": [
      "Fitting 8 folds for each of 20 candidates, totalling 160 fits\n"
     ]
    },
    {
     "name": "stderr",
     "output_type": "stream",
     "text": [
      "[Parallel(n_jobs=-1)]: Using backend LokyBackend with 4 concurrent workers.\n",
      "[Parallel(n_jobs=-1)]: Done  42 tasks      | elapsed: 80.0min\n",
      "[Parallel(n_jobs=-1)]: Done 160 out of 160 | elapsed: 635.4min finished\n"
     ]
    },
    {
     "data": {
      "text/plain": [
       "GridSearchCV(cv=8, error_score='raise-deprecating',\n",
       "       estimator=RandomForestClassifier(bootstrap=True, class_weight=None, criterion='gini',\n",
       "            max_depth=None, max_features='auto', max_leaf_nodes=None,\n",
       "            min_impurity_decrease=0.0, min_impurity_split=None,\n",
       "            min_samples_leaf=1, min_samples_split=2,\n",
       "            min_weight_fraction_leaf=0.0, n_estimators='warn', n_jobs=None,\n",
       "            oob_score=False, random_state=None, verbose=0,\n",
       "            warm_start=False),\n",
       "       fit_params=None, iid='warn', n_jobs=-1,\n",
       "       param_grid={'max_depth': [3, 5, 8, 10], 'n_estimators': [100, 300, 500, 1000, 2000]},\n",
       "       pre_dispatch='2*n_jobs', refit=True, return_train_score='warn',\n",
       "       scoring='f1', verbose=1)"
      ]
     },
     "execution_count": 48,
     "metadata": {},
     "output_type": "execute_result"
    }
   ],
   "source": [
    "parameters = {\"max_depth\": [3,5,8,10] , \"n_estimators\":[100,300,500,1000,2000]}\n",
    "\n",
    "\n",
    "#Gridsearch CV with 2 fold crossvalidation\n",
    "\n",
    "RF = RandomForestClassifier()\n",
    "GCV = GridSearchCV(RF,param_grid=parameters, scoring = \"f1\", verbose = 1,cv=8, n_jobs = -1)\n",
    "GCV.fit(X_train_median_std, y_train_median)"
   ]
  },
  {
   "cell_type": "code",
   "execution_count": 49,
   "metadata": {
    "colab": {
     "base_uri": "https://localhost:8080/",
     "height": 163
    },
    "colab_type": "code",
    "executionInfo": {
     "elapsed": 899,
     "status": "error",
     "timestamp": 1564929319118,
     "user": {
      "displayName": "sandeep Burra",
      "photoUrl": "",
      "userId": "00094485018250843945"
     },
     "user_tz": -330
    },
    "id": "Poi3G4GX4uqZ",
    "outputId": "b69ef211-da7c-4a71-eddd-5fba8098c5b7"
   },
   "outputs": [],
   "source": [
    "clf_rf_median= GCV.best_estimator_"
   ]
  },
  {
   "cell_type": "code",
   "execution_count": 50,
   "metadata": {
    "colab": {
     "base_uri": "https://localhost:8080/",
     "height": 136
    },
    "colab_type": "code",
    "executionInfo": {
     "elapsed": 2310,
     "status": "ok",
     "timestamp": 1564913527305,
     "user": {
      "displayName": "sandeep Burra",
      "photoUrl": "",
      "userId": "00094485018250843945"
     },
     "user_tz": -330
    },
    "id": "gxwiHLyN81dd",
    "outputId": "bbb0ecaf-8e0e-4b1e-9d4d-0cc8307d30b8"
   },
   "outputs": [
    {
     "data": {
      "text/plain": [
       "RandomForestClassifier(bootstrap=True, class_weight=None, criterion='gini',\n",
       "            max_depth=10, max_features='auto', max_leaf_nodes=None,\n",
       "            min_impurity_decrease=0.0, min_impurity_split=None,\n",
       "            min_samples_leaf=1, min_samples_split=2,\n",
       "            min_weight_fraction_leaf=0.0, n_estimators=300, n_jobs=None,\n",
       "            oob_score=False, random_state=None, verbose=0,\n",
       "            warm_start=False)"
      ]
     },
     "execution_count": 50,
     "metadata": {},
     "output_type": "execute_result"
    }
   ],
   "source": [
    "GCV.best_estimator_"
   ]
  },
  {
   "cell_type": "code",
   "execution_count": 54,
   "metadata": {
    "colab": {
     "base_uri": "https://localhost:8080/",
     "height": 513
    },
    "colab_type": "code",
    "executionInfo": {
     "elapsed": 172617,
     "status": "ok",
     "timestamp": 1564913712315,
     "user": {
      "displayName": "sandeep Burra",
      "photoUrl": "",
      "userId": "00094485018250843945"
     },
     "user_tz": -330
    },
    "id": "Jmyg8mW61H5F",
    "outputId": "4ec40da0-2c92-432f-ac9b-f84fae837ae3",
    "scrolled": false
   },
   "outputs": [
    {
     "data": {
      "image/png": "[encoded data removed]",
      "text/plain": [
       "<Figure size 576x576 with 1 Axes>"
      ]
     },
     "metadata": {
      "needs_background": "light"
     },
     "output_type": "display_data"
    }
   ],
   "source": [
    "x_t, x_c, y_t, y_c = train_test_split(X_train_median_std, y_train_median, stratify=y_train_median, test_size=0.3)\n",
    "clf_rf_median.fit(x_t, y_t)\n",
    "sig_clf_probs = clf_rf_median.predict_proba(x_c)[:,1]\n",
    "presicision, recall, tresholds =precision_recall_curve(y_c,sig_clf_probs)\n",
    "plot_precision_recall_vs_threshold(presicision, recall, tresholds)"
   ]
  },
  {
   "cell_type": "code",
   "execution_count": 55,
   "metadata": {
    "colab": {},
    "colab_type": "code",
    "id": "1u2Ta8yL3WSp"
   },
   "outputs": [],
   "source": [
    "t=0.5"
   ]
  },
  {
   "cell_type": "code",
   "execution_count": 57,
   "metadata": {
    "colab": {},
    "colab_type": "code",
    "id": "ICwHj_ij3WS0"
   },
   "outputs": [],
   "source": [
    "clf_rf_median.fit(X_train_median_std, y_train_median)\n",
    "test_clf_probs = clf_rf_median.predict_proba(X_test_median_std)[:,1]\n",
    "train_clf_probs = clf_rf_median.predict_proba(X_train_median_std)[:,1]"
   ]
  },
  {
   "cell_type": "code",
   "execution_count": 58,
   "metadata": {
    "colab": {},
    "colab_type": "code",
    "id": "Y9daN3_s3WS5"
   },
   "outputs": [],
   "source": [
    "train_predictions = pred_with_threshold(train_clf_probs,t)\n",
    "test_predictions = pred_with_threshold(test_clf_probs,t)"
   ]
  },
  {
   "cell_type": "code",
   "execution_count": 60,
   "metadata": {
    "colab": {
     "base_uri": "https://localhost:8080/",
     "height": 675
    },
    "colab_type": "code",
    "executionInfo": {
     "elapsed": 1492,
     "status": "ok",
     "timestamp": 1564913924876,
     "user": {
      "displayName": "sandeep Burra",
      "photoUrl": "",
      "userId": "00094485018250843945"
     },
     "user_tz": -330
    },
    "id": "JNVNHDNC3WS-",
    "outputId": "a9dfe515-b474-4f9e-9be7-2b1e58557053",
    "scrolled": true
   },
   "outputs": [
    {
     "name": "stdout",
     "output_type": "stream",
     "text": [
      "Train Confusion Matrix\n"
     ]
    },
    {
     "data": {
      "image/png": "[encoded data removed]",
      "text/plain": [
       "<Figure size 576x288 with 2 Axes>"
      ]
     },
     "metadata": {
      "needs_background": "light"
     },
     "output_type": "display_data"
    },
    {
     "name": "stdout",
     "output_type": "stream",
     "text": [
      "f1_score : 0.9826260324693818\n",
      "Total Cost due to mis classifiation: 192240\n",
      "Test Confusion Matrix\n"
     ]
    },
    {
     "data": {
      "image/png": "[encoded data removed]",
      "text/plain": [
       "<Figure size 576x288 with 2 Axes>"
      ]
     },
     "metadata": {
      "needs_background": "light"
     },
     "output_type": "display_data"
    },
    {
     "name": "stdout",
     "output_type": "stream",
     "text": [
      "f1_score : 0.5916870415647921\n",
      "Total Cost due to mis classifiation: 10890\n"
     ]
    }
   ],
   "source": [
    "print(\"Train Confusion Matrix\")\n",
    "plot_confusion_matrix(y_train_median, train_predictions)\n",
    "print(\"Test Confusion Matrix\")\n",
    "plot_confusion_matrix(y_test, test_predictions)"
   ]
  },
  {
   "cell_type": "markdown",
   "metadata": {
    "colab_type": "text",
    "id": "_c2TaTad4up8"
   },
   "source": [
    " <h2>Linear\\logistic Regression with constant value imputation</h2>"
   ]
  },
  {
   "cell_type": "code",
   "execution_count": 57,
   "metadata": {
    "scrolled": true
   },
   "outputs": [
    {
     "name": "stdout",
     "output_type": "stream",
     "text": [
      "Fitting 8 folds for each of 36 candidates, totalling 288 fits\n"
     ]
    },
    {
     "name": "stderr",
     "output_type": "stream",
     "text": [
      "[Parallel(n_jobs=-1)]: Using backend LokyBackend with 8 concurrent workers.\n",
      "[Parallel(n_jobs=-1)]: Done  34 tasks      | elapsed:  1.6min\n",
      "[Parallel(n_jobs=-1)]: Done 184 tasks      | elapsed:  7.9min\n",
      "[Parallel(n_jobs=-1)]: Done 288 out of 288 | elapsed:  9.7min finished\n"
     ]
    },
    {
     "data": {
      "text/plain": [
       "GridSearchCV(cv=8, error_score='raise-deprecating',\n",
       "             estimator=SGDClassifier(alpha=0.0001, average=False,\n",
       "                                     class_weight=None, early_stopping=False,\n",
       "                                     epsilon=0.1, eta0=0.0, fit_intercept=True,\n",
       "                                     l1_ratio=0.15, learning_rate='optimal',\n",
       "                                     loss='hinge', max_iter=1000,\n",
       "                                     n_iter_no_change=5, n_jobs=None,\n",
       "                                     penalty='l2', power_t=0.5,\n",
       "                                     random_state=None, shuffle=True, tol=0.001,\n",
       "                                     validation_fraction=0.1, verbose=0,\n",
       "                                     warm_start=False),\n",
       "             iid='warn', n_jobs=-1,\n",
       "             param_grid={'alpha': [1e-06, 1e-05, 0.0001, 0.001, 0.01, 0.1, 1,\n",
       "                                   10, 100],\n",
       "                         'loss': ['log', 'hinge'], 'penalty': ['l2', 'l1']},\n",
       "             pre_dispatch='2*n_jobs', refit=True, return_train_score=False,\n",
       "             scoring='f1', verbose=1)"
      ]
     },
     "execution_count": 57,
     "metadata": {},
     "output_type": "execute_result"
    }
   ],
   "source": [
    "parameters = {\"alpha\": [10 ** x for x in range(-6, 3)], \"penalty\" : ['l2','l1'], \"loss\" : ['log','hinge']}\n",
    "\n",
    "#Gridsearch CV with 8 fold crossvalidation\n",
    "\n",
    "LR = SGDClassifier()    \n",
    "GCV = GridSearchCV(LR,param_grid=parameters, scoring = \"f1\", verbose = 1,cv=8, n_jobs = -1)\n",
    "GCV.fit(X_train_constant_std , y_train_constant )"
   ]
  },
  {
   "cell_type": "code",
   "execution_count": 58,
   "metadata": {
    "colab": {
     "base_uri": "https://localhost:8080/",
     "height": 163
    },
    "colab_type": "code",
    "executionInfo": {
     "elapsed": 899,
     "status": "error",
     "timestamp": 1564929319118,
     "user": {
      "displayName": "sandeep Burra",
      "photoUrl": "",
      "userId": "00094485018250843945"
     },
     "user_tz": -330
    },
    "id": "Poi3G4GX4uqZ",
    "outputId": "b69ef211-da7c-4a71-eddd-5fba8098c5b7"
   },
   "outputs": [],
   "source": [
    "clf_sgd_constant= GCV.best_estimator_"
   ]
  },
  {
   "cell_type": "code",
   "execution_count": 59,
   "metadata": {
    "colab": {
     "base_uri": "https://localhost:8080/",
     "height": 136
    },
    "colab_type": "code",
    "executionInfo": {
     "elapsed": 2310,
     "status": "ok",
     "timestamp": 1564913527305,
     "user": {
      "displayName": "sandeep Burra",
      "photoUrl": "",
      "userId": "00094485018250843945"
     },
     "user_tz": -330
    },
    "id": "gxwiHLyN81dd",
    "outputId": "bbb0ecaf-8e0e-4b1e-9d4d-0cc8307d30b8"
   },
   "outputs": [
    {
     "data": {
      "text/plain": [
       "SGDClassifier(alpha=0.0001, average=False, class_weight=None,\n",
       "              early_stopping=False, epsilon=0.1, eta0=0.0, fit_intercept=True,\n",
       "              l1_ratio=0.15, learning_rate='optimal', loss='hinge',\n",
       "              max_iter=1000, n_iter_no_change=5, n_jobs=None, penalty='l2',\n",
       "              power_t=0.5, random_state=None, shuffle=True, tol=0.001,\n",
       "              validation_fraction=0.1, verbose=0, warm_start=False)"
      ]
     },
     "execution_count": 59,
     "metadata": {},
     "output_type": "execute_result"
    }
   ],
   "source": [
    "GCV.best_estimator_"
   ]
  },
  {
   "cell_type": "code",
   "execution_count": 60,
   "metadata": {
    "colab": {
     "base_uri": "https://localhost:8080/",
     "height": 513
    },
    "colab_type": "code",
    "executionInfo": {
     "elapsed": 172617,
     "status": "ok",
     "timestamp": 1564913712315,
     "user": {
      "displayName": "sandeep Burra",
      "photoUrl": "",
      "userId": "00094485018250843945"
     },
     "user_tz": -330
    },
    "id": "Jmyg8mW61H5F",
    "outputId": "4ec40da0-2c92-432f-ac9b-f84fae837ae3",
    "scrolled": false
   },
   "outputs": [
    {
     "data": {
      "image/png": "[encoded data removed]",
      "text/plain": [
       "<Figure size 576x576 with 1 Axes>"
      ]
     },
     "metadata": {},
     "output_type": "display_data"
    }
   ],
   "source": [
    "x_t, x_c, y_t, y_c = train_test_split(X_train_constant_std , y_train_constant, stratify=y_train_constant, test_size=0.3)\n",
    "clf_sgd_constant.fit(x_t, y_t)\n",
    "sig_clf = CalibratedClassifierCV(clf_sgd_constant, method=\"sigmoid\")\n",
    "sig_clf.fit(x_t, y_t)\n",
    "sig_clf_probs = sig_clf.predict_proba(x_c)[:,1]\n",
    "presicision, recall, tresholds =precision_recall_curve(y_c,sig_clf_probs)\n",
    "plot_precision_recall_vs_threshold(presicision, recall, tresholds)"
   ]
  },
  {
   "cell_type": "code",
   "execution_count": 61,
   "metadata": {
    "colab": {},
    "colab_type": "code",
    "id": "1u2Ta8yL3WSp"
   },
   "outputs": [],
   "source": [
    "t=0.3"
   ]
  },
  {
   "cell_type": "code",
   "execution_count": 62,
   "metadata": {
    "colab": {},
    "colab_type": "code",
    "id": "ICwHj_ij3WS0"
   },
   "outputs": [],
   "source": [
    "clf= GCV.best_estimator_\n",
    "clf.fit(X_train_constant_std , y_train_constant)\n",
    "sig_clf = CalibratedClassifierCV(clf, method=\"sigmoid\")\n",
    "sig_clf.fit(X_train_constant_std , y_train_constant)\n",
    "test_clf_probs = sig_clf.predict_proba(X_test_constant_std)[:,1]\n",
    "train_clf_probs = sig_clf.predict_proba(X_train_constant_std)[:,1]"
   ]
  },
  {
   "cell_type": "code",
   "execution_count": 63,
   "metadata": {
    "colab": {},
    "colab_type": "code",
    "id": "Y9daN3_s3WS5"
   },
   "outputs": [],
   "source": [
    "train_predictions = pred_with_threshold(train_clf_probs,t)\n",
    "test_predictions = pred_with_threshold(test_clf_probs,t)"
   ]
  },
  {
   "cell_type": "code",
   "execution_count": 64,
   "metadata": {
    "colab": {
     "base_uri": "https://localhost:8080/",
     "height": 675
    },
    "colab_type": "code",
    "executionInfo": {
     "elapsed": 1492,
     "status": "ok",
     "timestamp": 1564913924876,
     "user": {
      "displayName": "sandeep Burra",
      "photoUrl": "",
      "userId": "00094485018250843945"
     },
     "user_tz": -330
    },
    "id": "JNVNHDNC3WS-",
    "outputId": "a9dfe515-b474-4f9e-9be7-2b1e58557053",
    "scrolled": false
   },
   "outputs": [
    {
     "name": "stdout",
     "output_type": "stream",
     "text": [
      "Train Confusion Matrix\n"
     ]
    },
    {
     "data": {
      "image/png": "[encoded data removed]",
      "text/plain": [
       "<Figure size 576x288 with 2 Axes>"
      ]
     },
     "metadata": {},
     "output_type": "display_data"
    },
    {
     "name": "stdout",
     "output_type": "stream",
     "text": [
      "f1_score : 0.9689627007895454\n",
      "Total Cost due to mis classifiation: 1043920\n",
      "Test Confusion Matrix\n"
     ]
    },
    {
     "data": {
      "image/png": "[encoded data removed]",
      "text/plain": [
       "<Figure size 576x288 with 2 Axes>"
      ]
     },
     "metadata": {},
     "output_type": "display_data"
    },
    {
     "name": "stdout",
     "output_type": "stream",
     "text": [
      "f1_score : 0.6097560975609756\n",
      "Total Cost due to mis classifiation: 16730\n"
     ]
    }
   ],
   "source": [
    "print(\"Train Confusion Matrix\")\n",
    "plot_confusion_matrix(y_train_constant, train_predictions)\n",
    "print(\"Test Confusion Matrix\")\n",
    "plot_confusion_matrix(y_test, test_predictions)"
   ]
  },
  {
   "cell_type": "markdown",
   "metadata": {},
   "source": [
    "### XGB with constant value imputation"
   ]
  },
  {
   "cell_type": "code",
   "execution_count": 42,
   "metadata": {
    "colab": {
     "base_uri": "https://localhost:8080/",
     "height": 68
    },
    "colab_type": "code",
    "id": "vfez58Q-pSzt",
    "outputId": "1981299e-dd6e-4d9e-edec-e56669510850",
    "scrolled": true
   },
   "outputs": [
    {
     "name": "stdout",
     "output_type": "stream",
     "text": [
      "Fitting 2 folds for each of 12 candidates, totalling 24 fits\n"
     ]
    },
    {
     "name": "stderr",
     "output_type": "stream",
     "text": [
      "[Parallel(n_jobs=-1)]: Using backend LokyBackend with 8 concurrent workers.\n",
      "[Parallel(n_jobs=-1)]: Done  24 out of  24 | elapsed: 131.2min finished\n"
     ]
    },
    {
     "data": {
      "text/plain": [
       "GridSearchCV(cv=2, error_score='raise-deprecating',\n",
       "             estimator=XGBClassifier(base_score=0.5, booster='gbtree',\n",
       "                                     colsample_bylevel=1, colsample_bynode=1,\n",
       "                                     colsample_bytree=1, gamma=0,\n",
       "                                     learning_rate=0.1, max_delta_step=0,\n",
       "                                     max_depth=3, min_child_weight=1,\n",
       "                                     missing=None, n_estimators=100, n_jobs=1,\n",
       "                                     nthread=None, objective='binary:logistic',\n",
       "                                     random_state=0, reg_alpha=0, reg_lambda=1,\n",
       "                                     scale_pos_weight=1, seed=None, silent=None,\n",
       "                                     subsample=1, verbosity=1),\n",
       "             iid='warn', n_jobs=-1,\n",
       "             param_grid={'max_depth': [5, 8, 10],\n",
       "                         'n_estimators': [300, 500, 1000, 2000]},\n",
       "             pre_dispatch='2*n_jobs', refit=True, return_train_score=False,\n",
       "             scoring='f1', verbose=1)"
      ]
     },
     "execution_count": 42,
     "metadata": {},
     "output_type": "execute_result"
    }
   ],
   "source": [
    "parameters = {\"max_depth\": [5,8,10] , \"n_estimators\":[300,500,1000,2000]}\n",
    "\n",
    "\n",
    "#Gridsearch CV with 2 fold crossvalidation\n",
    "\n",
    "xgb = XGBClassifier()\n",
    "GCV = GridSearchCV(xgb,param_grid=parameters, scoring = \"f1\", verbose = 1,cv=2,n_jobs = -1)\n",
    "GCV.fit(X_train_constant_std , y_train_constant)"
   ]
  },
  {
   "cell_type": "code",
   "execution_count": 43,
   "metadata": {
    "colab": {
     "base_uri": "https://localhost:8080/",
     "height": 163
    },
    "colab_type": "code",
    "executionInfo": {
     "elapsed": 899,
     "status": "error",
     "timestamp": 1564929319118,
     "user": {
      "displayName": "sandeep Burra",
      "photoUrl": "",
      "userId": "00094485018250843945"
     },
     "user_tz": -330
    },
    "id": "Poi3G4GX4uqZ",
    "outputId": "b69ef211-da7c-4a71-eddd-5fba8098c5b7"
   },
   "outputs": [],
   "source": [
    "clf_xgb_constant= GCV.best_estimator_"
   ]
  },
  {
   "cell_type": "code",
   "execution_count": 44,
   "metadata": {
    "colab": {
     "base_uri": "https://localhost:8080/",
     "height": 136
    },
    "colab_type": "code",
    "executionInfo": {
     "elapsed": 2310,
     "status": "ok",
     "timestamp": 1564913527305,
     "user": {
      "displayName": "sandeep Burra",
      "photoUrl": "",
      "userId": "00094485018250843945"
     },
     "user_tz": -330
    },
    "id": "gxwiHLyN81dd",
    "outputId": "bbb0ecaf-8e0e-4b1e-9d4d-0cc8307d30b8"
   },
   "outputs": [
    {
     "data": {
      "text/plain": [
       "XGBClassifier(base_score=0.5, booster='gbtree', colsample_bylevel=1,\n",
       "              colsample_bynode=1, colsample_bytree=1, gamma=0,\n",
       "              learning_rate=0.1, max_delta_step=0, max_depth=10,\n",
       "              min_child_weight=1, missing=None, n_estimators=300, n_jobs=1,\n",
       "              nthread=None, objective='binary:logistic', random_state=0,\n",
       "              reg_alpha=0, reg_lambda=1, scale_pos_weight=1, seed=None,\n",
       "              silent=None, subsample=1, verbosity=1)"
      ]
     },
     "execution_count": 44,
     "metadata": {},
     "output_type": "execute_result"
    }
   ],
   "source": [
    "GCV.best_estimator_"
   ]
  },
  {
   "cell_type": "code",
   "execution_count": 85,
   "metadata": {},
   "outputs": [],
   "source": [
    "clf_xgb_constant = XGBClassifier(base_score=0.5, booster='gbtree', colsample_bylevel=1,\n",
    "              colsample_bynode=1, colsample_bytree=1, gamma=0,\n",
    "              learning_rate=0.1, max_delta_step=0, max_depth=10,\n",
    "              min_child_weight=1, missing=None, n_estimators=300, n_jobs=1,\n",
    "              nthread=None, objective='binary:logistic', random_state=0,\n",
    "              reg_alpha=0, reg_lambda=1, scale_pos_weight=1, seed=None,\n",
    "              silent=None, subsample=1, verbosity=1)"
   ]
  },
  {
   "cell_type": "code",
   "execution_count": 86,
   "metadata": {
    "colab": {
     "base_uri": "https://localhost:8080/",
     "height": 513
    },
    "colab_type": "code",
    "executionInfo": {
     "elapsed": 172617,
     "status": "ok",
     "timestamp": 1564913712315,
     "user": {
      "displayName": "sandeep Burra",
      "photoUrl": "",
      "userId": "00094485018250843945"
     },
     "user_tz": -330
    },
    "id": "Jmyg8mW61H5F",
    "outputId": "4ec40da0-2c92-432f-ac9b-f84fae837ae3",
    "scrolled": false
   },
   "outputs": [
    {
     "data": {
      "image/png": "[encoded data removed]",
      "text/plain": [
       "<Figure size 576x576 with 1 Axes>"
      ]
     },
     "metadata": {},
     "output_type": "display_data"
    }
   ],
   "source": [
    "x_t, x_c, y_t, y_c = train_test_split(X_train_constant_std, y_train_constant, stratify=y_train_constant, test_size=0.3)\n",
    "clf_xgb_constant.fit(x_t, y_t)\n",
    "sig_clf_probs = clf_xgb_constant.predict_proba(x_c)[:,1]\n",
    "#train_predict = clf.predict(x_train)\n",
    "#cross_predict = clf.predict(x_test)\n",
    "presicision, recall, tresholds =precision_recall_curve(y_c,sig_clf_probs)\n",
    "plot_precision_recall_vs_threshold(presicision, recall, tresholds)"
   ]
  },
  {
   "cell_type": "code",
   "execution_count": 87,
   "metadata": {
    "colab": {},
    "colab_type": "code",
    "id": "1u2Ta8yL3WSp"
   },
   "outputs": [],
   "source": [
    "t=0.8"
   ]
  },
  {
   "cell_type": "code",
   "execution_count": 88,
   "metadata": {
    "colab": {},
    "colab_type": "code",
    "id": "ICwHj_ij3WS0"
   },
   "outputs": [
    {
     "data": {
      "text/plain": [
       "XGBClassifier(base_score=0.5, booster='gbtree', colsample_bylevel=1,\n",
       "              colsample_bynode=1, colsample_bytree=1, gamma=0,\n",
       "              learning_rate=0.1, max_delta_step=0, max_depth=10,\n",
       "              min_child_weight=1, missing=None, n_estimators=300, n_jobs=1,\n",
       "              nthread=None, objective='binary:logistic', random_state=0,\n",
       "              reg_alpha=0, reg_lambda=1, scale_pos_weight=1, seed=None,\n",
       "              silent=None, subsample=1, verbosity=1)"
      ]
     },
     "execution_count": 88,
     "metadata": {},
     "output_type": "execute_result"
    }
   ],
   "source": [
    "clf_xgb_constant.fit(X_train_constant_std , y_train_constant)"
   ]
  },
  {
   "cell_type": "code",
   "execution_count": 89,
   "metadata": {},
   "outputs": [],
   "source": [
    "test_clf_probs = clf_xgb_constant.predict_proba(X_test_constant_std)[:,1]\n",
    "train_clf_probs = clf_xgb_constant.predict_proba(X_train_constant_std)[:,1]"
   ]
  },
  {
   "cell_type": "code",
   "execution_count": 90,
   "metadata": {
    "colab": {},
    "colab_type": "code",
    "id": "Y9daN3_s3WS5"
   },
   "outputs": [],
   "source": [
    "train_predictions = pred_with_threshold(train_clf_probs,t)\n",
    "test_predictions = pred_with_threshold(test_clf_probs,t)"
   ]
  },
  {
   "cell_type": "code",
   "execution_count": 91,
   "metadata": {
    "colab": {
     "base_uri": "https://localhost:8080/",
     "height": 675
    },
    "colab_type": "code",
    "executionInfo": {
     "elapsed": 1492,
     "status": "ok",
     "timestamp": 1564913924876,
     "user": {
      "displayName": "sandeep Burra",
      "photoUrl": "",
      "userId": "00094485018250843945"
     },
     "user_tz": -330
    },
    "id": "JNVNHDNC3WS-",
    "outputId": "a9dfe515-b474-4f9e-9be7-2b1e58557053",
    "scrolled": false
   },
   "outputs": [
    {
     "name": "stdout",
     "output_type": "stream",
     "text": [
      "Train Confusion Matrix\n"
     ]
    },
    {
     "data": {
      "image/png": "[encoded data removed]",
      "text/plain": [
       "<Figure size 576x288 with 2 Axes>"
      ]
     },
     "metadata": {},
     "output_type": "display_data"
    },
    {
     "name": "stdout",
     "output_type": "stream",
     "text": [
      "f1_score : 0.9945033637390615\n",
      "Total Cost due to mis classifiation: 14850\n",
      "Test Confusion Matrix\n"
     ]
    },
    {
     "data": {
      "image/png": "[encoded data removed]",
      "text/plain": [
       "<Figure size 576x288 with 2 Axes>"
      ]
     },
     "metadata": {},
     "output_type": "display_data"
    },
    {
     "name": "stdout",
     "output_type": "stream",
     "text": [
      "f1_score : 0.7147335423197493\n",
      "Total Cost due to mis classifiation: 18900\n"
     ]
    }
   ],
   "source": [
    "print(\"Train Confusion Matrix\")\n",
    "plot_confusion_matrix(y_train_constant, train_predictions)\n",
    "print(\"Test Confusion Matrix\")\n",
    "plot_confusion_matrix(y_test, test_predictions)"
   ]
  },
  {
   "cell_type": "markdown",
   "metadata": {},
   "source": [
    "### Random Forest with constant value imputation"
   ]
  },
  {
   "cell_type": "code",
   "execution_count": 92,
   "metadata": {
    "colab": {
     "base_uri": "https://localhost:8080/",
     "height": 68
    },
    "colab_type": "code",
    "id": "vfez58Q-pSzt",
    "outputId": "1981299e-dd6e-4d9e-edec-e56669510850",
    "scrolled": true
   },
   "outputs": [
    {
     "name": "stdout",
     "output_type": "stream",
     "text": [
      "Fitting 2 folds for each of 20 candidates, totalling 40 fits\n"
     ]
    },
    {
     "name": "stderr",
     "output_type": "stream",
     "text": [
      "[Parallel(n_jobs=-1)]: Using backend LokyBackend with 8 concurrent workers.\n",
      "[Parallel(n_jobs=-1)]: Done  40 out of  40 | elapsed: 30.4min finished\n"
     ]
    },
    {
     "data": {
      "text/plain": [
       "GridSearchCV(cv=2, error_score='raise-deprecating',\n",
       "             estimator=RandomForestClassifier(bootstrap=True, class_weight=None,\n",
       "                                              criterion='gini', max_depth=None,\n",
       "                                              max_features='auto',\n",
       "                                              max_leaf_nodes=None,\n",
       "                                              min_impurity_decrease=0.0,\n",
       "                                              min_impurity_split=None,\n",
       "                                              min_samples_leaf=1,\n",
       "                                              min_samples_split=2,\n",
       "                                              min_weight_fraction_leaf=0.0,\n",
       "                                              n_estimators='warn', n_jobs=None,\n",
       "                                              oob_score=False,\n",
       "                                              random_state=None, verbose=0,\n",
       "                                              warm_start=False),\n",
       "             iid='warn', n_jobs=-1,\n",
       "             param_grid={'max_depth': [3, 5, 8, 10],\n",
       "                         'n_estimators': [100, 300, 500, 1000, 2000]},\n",
       "             pre_dispatch='2*n_jobs', refit=True, return_train_score=False,\n",
       "             scoring='f1', verbose=1)"
      ]
     },
     "execution_count": 92,
     "metadata": {},
     "output_type": "execute_result"
    }
   ],
   "source": [
    "parameters = {\"max_depth\": [3,5,8,10] , \"n_estimators\":[100,300,500,1000,2000]}\n",
    "\n",
    "\n",
    "#Gridsearch CV with 2 fold crossvalidation\n",
    "\n",
    "RF = RandomForestClassifier()\n",
    "GCV = GridSearchCV(RF,param_grid=parameters, scoring = \"f1\", verbose = 1,cv=2,n_jobs =-1)\n",
    "GCV.fit(X_train_constant_std , y_train_constant)"
   ]
  },
  {
   "cell_type": "code",
   "execution_count": 93,
   "metadata": {
    "colab": {
     "base_uri": "https://localhost:8080/",
     "height": 163
    },
    "colab_type": "code",
    "executionInfo": {
     "elapsed": 899,
     "status": "error",
     "timestamp": 1564929319118,
     "user": {
      "displayName": "sandeep Burra",
      "photoUrl": "",
      "userId": "00094485018250843945"
     },
     "user_tz": -330
    },
    "id": "Poi3G4GX4uqZ",
    "outputId": "b69ef211-da7c-4a71-eddd-5fba8098c5b7"
   },
   "outputs": [],
   "source": [
    "clf_rf_constant= GCV.best_estimator_"
   ]
  },
  {
   "cell_type": "code",
   "execution_count": 94,
   "metadata": {
    "colab": {
     "base_uri": "https://localhost:8080/",
     "height": 136
    },
    "colab_type": "code",
    "executionInfo": {
     "elapsed": 2310,
     "status": "ok",
     "timestamp": 1564913527305,
     "user": {
      "displayName": "sandeep Burra",
      "photoUrl": "",
      "userId": "00094485018250843945"
     },
     "user_tz": -330
    },
    "id": "gxwiHLyN81dd",
    "outputId": "bbb0ecaf-8e0e-4b1e-9d4d-0cc8307d30b8"
   },
   "outputs": [
    {
     "data": {
      "text/plain": [
       "RandomForestClassifier(bootstrap=True, class_weight=None, criterion='gini',\n",
       "                       max_depth=10, max_features='auto', max_leaf_nodes=None,\n",
       "                       min_impurity_decrease=0.0, min_impurity_split=None,\n",
       "                       min_samples_leaf=1, min_samples_split=2,\n",
       "                       min_weight_fraction_leaf=0.0, n_estimators=300,\n",
       "                       n_jobs=None, oob_score=False, random_state=None,\n",
       "                       verbose=0, warm_start=False)"
      ]
     },
     "execution_count": 94,
     "metadata": {},
     "output_type": "execute_result"
    }
   ],
   "source": [
    "GCV.best_estimator_"
   ]
  },
  {
   "cell_type": "code",
   "execution_count": 95,
   "metadata": {
    "colab": {
     "base_uri": "https://localhost:8080/",
     "height": 513
    },
    "colab_type": "code",
    "executionInfo": {
     "elapsed": 172617,
     "status": "ok",
     "timestamp": 1564913712315,
     "user": {
      "displayName": "sandeep Burra",
      "photoUrl": "",
      "userId": "00094485018250843945"
     },
     "user_tz": -330
    },
    "id": "Jmyg8mW61H5F",
    "outputId": "4ec40da0-2c92-432f-ac9b-f84fae837ae3",
    "scrolled": false
   },
   "outputs": [
    {
     "data": {
      "image/png": "[encoded data removed]",
      "text/plain": [
       "<Figure size 576x576 with 1 Axes>"
      ]
     },
     "metadata": {},
     "output_type": "display_data"
    }
   ],
   "source": [
    "x_t, x_c, y_t, y_c = train_test_split(X_train_constant_std , y_train_constant, stratify=y_train_constant, test_size=0.3)\n",
    "clf_rf_constant.fit(x_t, y_t)\n",
    "sig_clf_probs = clf_rf_constant.predict_proba(x_c)[:,1]\n",
    "#train_predict = clf.predict(x_train)\n",
    "#cross_predict = clf.predict(x_test)\n",
    "presicision, recall, tresholds =precision_recall_curve(y_c,sig_clf_probs)\n",
    "plot_precision_recall_vs_threshold(presicision, recall, tresholds)"
   ]
  },
  {
   "cell_type": "code",
   "execution_count": 96,
   "metadata": {
    "colab": {},
    "colab_type": "code",
    "id": "1u2Ta8yL3WSp"
   },
   "outputs": [],
   "source": [
    "t=0.6"
   ]
  },
  {
   "cell_type": "code",
   "execution_count": 97,
   "metadata": {
    "colab": {},
    "colab_type": "code",
    "id": "ICwHj_ij3WS0"
   },
   "outputs": [
    {
     "data": {
      "text/plain": [
       "RandomForestClassifier(bootstrap=True, class_weight=None, criterion='gini',\n",
       "                       max_depth=10, max_features='auto', max_leaf_nodes=None,\n",
       "                       min_impurity_decrease=0.0, min_impurity_split=None,\n",
       "                       min_samples_leaf=1, min_samples_split=2,\n",
       "                       min_weight_fraction_leaf=0.0, n_estimators=300,\n",
       "                       n_jobs=None, oob_score=False, random_state=None,\n",
       "                       verbose=0, warm_start=False)"
      ]
     },
     "execution_count": 97,
     "metadata": {},
     "output_type": "execute_result"
    }
   ],
   "source": [
    "clf_rf_constant.fit(X_train_constant_std , y_train_constant)"
   ]
  },
  {
   "cell_type": "code",
   "execution_count": 98,
   "metadata": {},
   "outputs": [],
   "source": [
    "test_clf_probs = clf_rf_constant.predict_proba(X_test_constant_std)[:,1]\n",
    "train_clf_probs = clf_rf_constant.predict_proba(X_train_constant_std)[:,1]"
   ]
  },
  {
   "cell_type": "code",
   "execution_count": 99,
   "metadata": {
    "colab": {},
    "colab_type": "code",
    "id": "Y9daN3_s3WS5"
   },
   "outputs": [],
   "source": [
    "train_predictions = pred_with_threshold(train_clf_probs,t)\n",
    "test_predictions = pred_with_threshold(test_clf_probs,t)"
   ]
  },
  {
   "cell_type": "code",
   "execution_count": 100,
   "metadata": {
    "colab": {
     "base_uri": "https://localhost:8080/",
     "height": 675
    },
    "colab_type": "code",
    "executionInfo": {
     "elapsed": 1492,
     "status": "ok",
     "timestamp": 1564913924876,
     "user": {
      "displayName": "sandeep Burra",
      "photoUrl": "",
      "userId": "00094485018250843945"
     },
     "user_tz": -330
    },
    "id": "JNVNHDNC3WS-",
    "outputId": "a9dfe515-b474-4f9e-9be7-2b1e58557053",
    "scrolled": false
   },
   "outputs": [
    {
     "name": "stdout",
     "output_type": "stream",
     "text": [
      "Train Confusion Matrix\n"
     ]
    },
    {
     "data": {
      "image/png": "[encoded data removed]",
      "text/plain": [
       "<Figure size 576x288 with 2 Axes>"
      ]
     },
     "metadata": {},
     "output_type": "display_data"
    },
    {
     "name": "stdout",
     "output_type": "stream",
     "text": [
      "f1_score : 0.9829886059711753\n",
      "Total Cost due to mis classifiation: 205510\n",
      "Test Confusion Matrix\n"
     ]
    },
    {
     "data": {
      "image/png": "[encoded data removed]",
      "text/plain": [
       "<Figure size 576x288 with 2 Axes>"
      ]
     },
     "metadata": {},
     "output_type": "display_data"
    },
    {
     "name": "stdout",
     "output_type": "stream",
     "text": [
      "f1_score : 0.6003316749585407\n",
      "Total Cost due to mis classifiation: 11190\n"
     ]
    }
   ],
   "source": [
    "print(\"Train Confusion Matrix\")\n",
    "plot_confusion_matrix(y_train_constant, train_predictions)\n",
    "print(\"Test Confusion Matrix\")\n",
    "plot_confusion_matrix(y_test, test_predictions)"
   ]
  },
  {
   "cell_type": "markdown",
   "metadata": {},
   "source": [
    "# Trying with dimensionality reduction techniques"
   ]
  },
  {
   "cell_type": "markdown",
   "metadata": {},
   "source": [
    "* Random Forest classifier with medain value imputation given good results till now, so we will proceed with dimensionality reduction."
   ]
  },
  {
   "cell_type": "markdown",
   "metadata": {},
   "source": [
    "### PCA"
   ]
  },
  {
   "cell_type": "code",
   "execution_count": 68,
   "metadata": {
    "colab": {},
    "colab_type": "code",
    "id": "3l7JHnmwWqZH"
   },
   "outputs": [],
   "source": [
    "pca = PCA()\n",
    "train_pca = pca.fit(x_train_median)"
   ]
  },
  {
   "cell_type": "code",
   "execution_count": 69,
   "metadata": {
    "colab": {},
    "colab_type": "code",
    "id": "G5r-RGK_ZYJw"
   },
   "outputs": [],
   "source": [
    "explained_variance = pca.explained_variance_ratio_"
   ]
  },
  {
   "cell_type": "code",
   "execution_count": 70,
   "metadata": {
    "colab": {},
    "colab_type": "code",
    "id": "B8VU4TW9ZhE2"
   },
   "outputs": [],
   "source": [
    "explained_variance_sorted = np.sort(explained_variance)\n"
   ]
  },
  {
   "cell_type": "code",
   "execution_count": 71,
   "metadata": {
    "colab": {},
    "colab_type": "code",
    "id": "O19v5w-_aERP"
   },
   "outputs": [],
   "source": [
    "length = len(explained_variance_sorted)"
   ]
  },
  {
   "cell_type": "code",
   "execution_count": 72,
   "metadata": {
    "colab": {},
    "colab_type": "code",
    "id": "jlSBsQ9MYgTN"
   },
   "outputs": [],
   "source": [
    "cumsum = pd.Series(explained_variance_sorted).cumsum()"
   ]
  },
  {
   "cell_type": "code",
   "execution_count": 73,
   "metadata": {
    "colab": {
     "base_uri": "https://localhost:8080/",
     "height": 269
    },
    "colab_type": "code",
    "executionInfo": {
     "elapsed": 31451,
     "status": "ok",
     "timestamp": 1564929356140,
     "user": {
      "displayName": "sandeep Burra",
      "photoUrl": "",
      "userId": "00094485018250843945"
     },
     "user_tz": -330
    },
    "id": "VhSz7XI5Y93v",
    "outputId": "d420ab55-a73b-4cd1-a2dd-3b0bf007768b"
   },
   "outputs": [
    {
     "data": {
      "image/png": "[encoded data removed]",
      "text/plain": [
       "<Figure size 432x288 with 1 Axes>"
      ]
     },
     "metadata": {},
     "output_type": "display_data"
    }
   ],
   "source": [
    "plt.plot(range(1,length+1),cumsum)\n",
    "plt.show()"
   ]
  },
  {
   "cell_type": "code",
   "execution_count": 74,
   "metadata": {
    "colab": {},
    "colab_type": "code",
    "id": "ooE8YeCXbGXN"
   },
   "outputs": [],
   "source": [
    "pca = PCA(n_components=20)\n",
    "train_pca = pca.fit(x_train_median)"
   ]
  },
  {
   "cell_type": "code",
   "execution_count": 75,
   "metadata": {
    "colab": {
     "base_uri": "https://localhost:8080/",
     "height": 34
    },
    "colab_type": "code",
    "executionInfo": {
     "elapsed": 32755,
     "status": "ok",
     "timestamp": 1564929357470,
     "user": {
      "displayName": "sandeep Burra",
      "photoUrl": "",
      "userId": "00094485018250843945"
     },
     "user_tz": -330
    },
    "id": "EQG9lhNBbaOj",
    "outputId": "76d8ebb9-f808-4046-fc92-1a050c208e63"
   },
   "outputs": [
    {
     "data": {
      "text/plain": [
       "0.9999686390849858"
      ]
     },
     "execution_count": 75,
     "metadata": {},
     "output_type": "execute_result"
    }
   ],
   "source": [
    "pca.explained_variance_ratio_.sum()"
   ]
  },
  {
   "cell_type": "code",
   "execution_count": 76,
   "metadata": {
    "colab": {},
    "colab_type": "code",
    "id": "APsplJgZbgR3"
   },
   "outputs": [],
   "source": [
    "x_train_median_pca = pca.transform(x_train_median)\n",
    "x_test_median_pca = pca.transform(x_test_median)"
   ]
  },
  {
   "cell_type": "code",
   "execution_count": 77,
   "metadata": {},
   "outputs": [],
   "source": [
    "sm = SMOTE(random_state=2)\n",
    "X_train_median_sm_pca, y_train_median_pca = sm.fit_sample(x_train_median_pca, y_train.ravel())"
   ]
  },
  {
   "cell_type": "code",
   "execution_count": 78,
   "metadata": {
    "colab": {},
    "colab_type": "code",
    "id": "X3bjyb7GeqDe"
   },
   "outputs": [],
   "source": [
    "ss = StandardScaler()\n",
    "X_train_pca_std = ss.fit_transform(X_train_median_sm_pca)\n",
    "X_test_pca_std = ss.transform(x_test_median_pca)"
   ]
  },
  {
   "cell_type": "code",
   "execution_count": 79,
   "metadata": {},
   "outputs": [
    {
     "name": "stdout",
     "output_type": "stream",
     "text": [
      "Fitting 2 folds for each of 20 candidates, totalling 40 fits\n"
     ]
    },
    {
     "name": "stderr",
     "output_type": "stream",
     "text": [
      "[Parallel(n_jobs=-1)]: Using backend LokyBackend with 8 concurrent workers.\n",
      "[Parallel(n_jobs=-1)]: Done  40 out of  40 | elapsed: 15.4min finished\n"
     ]
    },
    {
     "data": {
      "text/plain": [
       "GridSearchCV(cv=2, error_score='raise-deprecating',\n",
       "             estimator=RandomForestClassifier(bootstrap=True, class_weight=None,\n",
       "                                              criterion='gini', max_depth=None,\n",
       "                                              max_features='auto',\n",
       "                                              max_leaf_nodes=None,\n",
       "                                              min_impurity_decrease=0.0,\n",
       "                                              min_impurity_split=None,\n",
       "                                              min_samples_leaf=1,\n",
       "                                              min_samples_split=2,\n",
       "                                              min_weight_fraction_leaf=0.0,\n",
       "                                              n_estimators='warn', n_jobs=None,\n",
       "                                              oob_score=False,\n",
       "                                              random_state=None, verbose=0,\n",
       "                                              warm_start=False),\n",
       "             iid='warn', n_jobs=-1,\n",
       "             param_grid={'max_depth': [3, 5, 8, 10],\n",
       "                         'n_estimators': [100, 300, 500, 1000, 2000]},\n",
       "             pre_dispatch='2*n_jobs', refit=True, return_train_score=False,\n",
       "             scoring='f1', verbose=1)"
      ]
     },
     "execution_count": 79,
     "metadata": {},
     "output_type": "execute_result"
    }
   ],
   "source": [
    "parameters = {\"max_depth\": [3,5,8,10] , \"n_estimators\":[100,300,500,1000,2000]}\n",
    "\n",
    "\n",
    "#Gridsearch CV with 2 fold crossvalidation\n",
    "\n",
    "RF = RandomForestClassifier()\n",
    "GCV = GridSearchCV(RF,param_grid=parameters, scoring = \"f1\", verbose = 1,cv=2, n_jobs = -1)\n",
    "GCV.fit(X_train_pca_std, y_train_median_pca)"
   ]
  },
  {
   "cell_type": "code",
   "execution_count": 80,
   "metadata": {
    "colab": {
     "base_uri": "https://localhost:8080/",
     "height": 163
    },
    "colab_type": "code",
    "executionInfo": {
     "elapsed": 899,
     "status": "error",
     "timestamp": 1564929319118,
     "user": {
      "displayName": "sandeep Burra",
      "photoUrl": "",
      "userId": "00094485018250843945"
     },
     "user_tz": -330
    },
    "id": "Poi3G4GX4uqZ",
    "outputId": "b69ef211-da7c-4a71-eddd-5fba8098c5b7"
   },
   "outputs": [],
   "source": [
    "clf_rf_pca= GCV.best_estimator_"
   ]
  },
  {
   "cell_type": "code",
   "execution_count": 81,
   "metadata": {
    "colab": {
     "base_uri": "https://localhost:8080/",
     "height": 136
    },
    "colab_type": "code",
    "executionInfo": {
     "elapsed": 2310,
     "status": "ok",
     "timestamp": 1564913527305,
     "user": {
      "displayName": "sandeep Burra",
      "photoUrl": "",
      "userId": "00094485018250843945"
     },
     "user_tz": -330
    },
    "id": "gxwiHLyN81dd",
    "outputId": "bbb0ecaf-8e0e-4b1e-9d4d-0cc8307d30b8"
   },
   "outputs": [
    {
     "data": {
      "text/plain": [
       "RandomForestClassifier(bootstrap=True, class_weight=None, criterion='gini',\n",
       "                       max_depth=10, max_features='auto', max_leaf_nodes=None,\n",
       "                       min_impurity_decrease=0.0, min_impurity_split=None,\n",
       "                       min_samples_leaf=1, min_samples_split=2,\n",
       "                       min_weight_fraction_leaf=0.0, n_estimators=2000,\n",
       "                       n_jobs=None, oob_score=False, random_state=None,\n",
       "                       verbose=0, warm_start=False)"
      ]
     },
     "execution_count": 81,
     "metadata": {},
     "output_type": "execute_result"
    }
   ],
   "source": [
    "GCV.best_estimator_"
   ]
  },
  {
   "cell_type": "code",
   "execution_count": 82,
   "metadata": {
    "colab": {
     "base_uri": "https://localhost:8080/",
     "height": 513
    },
    "colab_type": "code",
    "executionInfo": {
     "elapsed": 172617,
     "status": "ok",
     "timestamp": 1564913712315,
     "user": {
      "displayName": "sandeep Burra",
      "photoUrl": "",
      "userId": "00094485018250843945"
     },
     "user_tz": -330
    },
    "id": "Jmyg8mW61H5F",
    "outputId": "4ec40da0-2c92-432f-ac9b-f84fae837ae3",
    "scrolled": false
   },
   "outputs": [
    {
     "data": {
      "image/png": "[encoded data removed]",
      "text/plain": [
       "<Figure size 576x576 with 1 Axes>"
      ]
     },
     "metadata": {},
     "output_type": "display_data"
    }
   ],
   "source": [
    "x_t, x_c, y_t, y_c = train_test_split(X_train_pca_std , y_train_median_pca, stratify=y_train_median_pca, test_size=0.3)\n",
    "clf_rf_pca.fit(x_t, y_t)\n",
    "sig_clf_probs = clf_rf_pca.predict_proba(x_c)[:,1]\n",
    "presicision, recall, tresholds =precision_recall_curve(y_c,sig_clf_probs)\n",
    "plot_precision_recall_vs_threshold(presicision, recall, tresholds)"
   ]
  },
  {
   "cell_type": "code",
   "execution_count": 83,
   "metadata": {
    "colab": {},
    "colab_type": "code",
    "id": "1u2Ta8yL3WSp"
   },
   "outputs": [],
   "source": [
    "t=0.6"
   ]
  },
  {
   "cell_type": "code",
   "execution_count": 84,
   "metadata": {
    "colab": {},
    "colab_type": "code",
    "id": "ICwHj_ij3WS0"
   },
   "outputs": [
    {
     "data": {
      "text/plain": [
       "RandomForestClassifier(bootstrap=True, class_weight=None, criterion='gini',\n",
       "                       max_depth=10, max_features='auto', max_leaf_nodes=None,\n",
       "                       min_impurity_decrease=0.0, min_impurity_split=None,\n",
       "                       min_samples_leaf=1, min_samples_split=2,\n",
       "                       min_weight_fraction_leaf=0.0, n_estimators=2000,\n",
       "                       n_jobs=None, oob_score=False, random_state=None,\n",
       "                       verbose=0, warm_start=False)"
      ]
     },
     "execution_count": 84,
     "metadata": {},
     "output_type": "execute_result"
    }
   ],
   "source": [
    "clf_rf_pca.fit(X_train_pca_std , y_train_median_pca)"
   ]
  },
  {
   "cell_type": "code",
   "execution_count": 85,
   "metadata": {},
   "outputs": [],
   "source": [
    "test_clf_probs = clf_rf_pca.predict_proba(X_test_pca_std)[:,1]\n",
    "train_clf_probs = clf_rf_pca.predict_proba(X_train_pca_std)[:,1]"
   ]
  },
  {
   "cell_type": "code",
   "execution_count": 86,
   "metadata": {
    "colab": {},
    "colab_type": "code",
    "id": "Y9daN3_s3WS5"
   },
   "outputs": [],
   "source": [
    "train_predictions = pred_with_threshold(train_clf_probs,t)\n",
    "test_predictions = pred_with_threshold(test_clf_probs,t)"
   ]
  },
  {
   "cell_type": "code",
   "execution_count": 87,
   "metadata": {
    "colab": {
     "base_uri": "https://localhost:8080/",
     "height": 675
    },
    "colab_type": "code",
    "executionInfo": {
     "elapsed": 1492,
     "status": "ok",
     "timestamp": 1564913924876,
     "user": {
      "displayName": "sandeep Burra",
      "photoUrl": "",
      "userId": "00094485018250843945"
     },
     "user_tz": -330
    },
    "id": "JNVNHDNC3WS-",
    "outputId": "a9dfe515-b474-4f9e-9be7-2b1e58557053",
    "scrolled": true
   },
   "outputs": [
    {
     "name": "stdout",
     "output_type": "stream",
     "text": [
      "Train Confusion Matrix\n"
     ]
    },
    {
     "data": {
      "image/png": "[encoded data removed]",
      "text/plain": [
       "<Figure size 576x288 with 2 Axes>"
      ]
     },
     "metadata": {},
     "output_type": "display_data"
    },
    {
     "name": "stdout",
     "output_type": "stream",
     "text": [
      "f1_score : 0.9697510976077992\n",
      "Total Cost due to mis classifiation: 481650\n",
      "Test Confusion Matrix\n"
     ]
    },
    {
     "data": {
      "image/png": "[encoded data removed]",
      "text/plain": [
       "<Figure size 576x288 with 2 Axes>"
      ]
     },
     "metadata": {},
     "output_type": "display_data"
    },
    {
     "name": "stdout",
     "output_type": "stream",
     "text": [
      "f1_score : 0.4903139612558451\n",
      "Total Cost due to mis classifiation: 11550\n"
     ]
    }
   ],
   "source": [
    "print(\"Train Confusion Matrix\")\n",
    "plot_confusion_matrix(y_train_median_pca, train_predictions)\n",
    "print(\"Test Confusion Matrix\")\n",
    "plot_confusion_matrix(y_test, test_predictions)"
   ]
  },
  {
   "cell_type": "markdown",
   "metadata": {},
   "source": [
    "## SVD"
   ]
  },
  {
   "cell_type": "code",
   "execution_count": 69,
   "metadata": {},
   "outputs": [],
   "source": [
    "from sklearn.decomposition import PCA, TruncatedSVD"
   ]
  },
  {
   "cell_type": "code",
   "execution_count": 94,
   "metadata": {
    "colab": {},
    "colab_type": "code",
    "id": "ooE8YeCXbGXN"
   },
   "outputs": [],
   "source": [
    "# Taking 30 features\n",
    "svd = TruncatedSVD(n_components=30)\n",
    "train_svd = svd.fit(x_train_median)"
   ]
  },
  {
   "cell_type": "code",
   "execution_count": 95,
   "metadata": {
    "colab": {
     "base_uri": "https://localhost:8080/",
     "height": 34
    },
    "colab_type": "code",
    "executionInfo": {
     "elapsed": 32755,
     "status": "ok",
     "timestamp": 1564929357470,
     "user": {
      "displayName": "sandeep Burra",
      "photoUrl": "",
      "userId": "00094485018250843945"
     },
     "user_tz": -330
    },
    "id": "EQG9lhNBbaOj",
    "outputId": "76d8ebb9-f808-4046-fc92-1a050c208e63"
   },
   "outputs": [
    {
     "data": {
      "text/plain": [
       "0.9999854134465792"
      ]
     },
     "execution_count": 95,
     "metadata": {},
     "output_type": "execute_result"
    }
   ],
   "source": [
    "svd.explained_variance_ratio_.sum()"
   ]
  },
  {
   "cell_type": "code",
   "execution_count": 96,
   "metadata": {
    "colab": {},
    "colab_type": "code",
    "id": "APsplJgZbgR3"
   },
   "outputs": [],
   "source": [
    "x_train_median_svd = svd.transform(x_train_median)\n",
    "x_test_median_svd = svd.transform(x_test_median)"
   ]
  },
  {
   "cell_type": "code",
   "execution_count": 97,
   "metadata": {},
   "outputs": [],
   "source": [
    "sm = SMOTE(random_state=2)\n",
    "X_train_median_sm_svd, y_train_median_svd = sm.fit_sample(x_train_median_svd, y_train.ravel())"
   ]
  },
  {
   "cell_type": "code",
   "execution_count": 98,
   "metadata": {
    "colab": {},
    "colab_type": "code",
    "id": "X3bjyb7GeqDe"
   },
   "outputs": [],
   "source": [
    "ss = StandardScaler()\n",
    "X_train_svd_std = ss.fit_transform(X_train_median_sm_svd)\n",
    "X_test_svd_std = ss.transform(x_test_median_svd)"
   ]
  },
  {
   "cell_type": "code",
   "execution_count": 99,
   "metadata": {},
   "outputs": [
    {
     "name": "stdout",
     "output_type": "stream",
     "text": [
      "Fitting 2 folds for each of 20 candidates, totalling 40 fits\n"
     ]
    },
    {
     "name": "stderr",
     "output_type": "stream",
     "text": [
      "[Parallel(n_jobs=-1)]: Using backend LokyBackend with 8 concurrent workers.\n",
      "[Parallel(n_jobs=-1)]: Done  40 out of  40 | elapsed: 34.9min finished\n"
     ]
    },
    {
     "data": {
      "text/plain": [
       "GridSearchCV(cv=2, error_score='raise-deprecating',\n",
       "             estimator=RandomForestClassifier(bootstrap=True, class_weight=None,\n",
       "                                              criterion='gini', max_depth=None,\n",
       "                                              max_features='auto',\n",
       "                                              max_leaf_nodes=None,\n",
       "                                              min_impurity_decrease=0.0,\n",
       "                                              min_impurity_split=None,\n",
       "                                              min_samples_leaf=1,\n",
       "                                              min_samples_split=2,\n",
       "                                              min_weight_fraction_leaf=0.0,\n",
       "                                              n_estimators='warn', n_jobs=None,\n",
       "                                              oob_score=False,\n",
       "                                              random_state=None, verbose=0,\n",
       "                                              warm_start=False),\n",
       "             iid='warn', n_jobs=-1,\n",
       "             param_grid={'max_depth': [3, 5, 8, 10],\n",
       "                         'n_estimators': [100, 300, 500, 1000, 2000]},\n",
       "             pre_dispatch='2*n_jobs', refit=True, return_train_score=False,\n",
       "             scoring='f1', verbose=1)"
      ]
     },
     "execution_count": 99,
     "metadata": {},
     "output_type": "execute_result"
    }
   ],
   "source": [
    "parameters = {\"max_depth\": [3,5,8,10] , \"n_estimators\":[100,300,500,1000,2000]}\n",
    "\n",
    "\n",
    "#Gridsearch CV with 2 fold crossvalidation\n",
    "\n",
    "RF = RandomForestClassifier()\n",
    "GCV = GridSearchCV(RF,param_grid=parameters, scoring = \"f1\", verbose = 1,cv=2, n_jobs = -1)\n",
    "GCV.fit(X_train_svd_std, y_train_median_svd)"
   ]
  },
  {
   "cell_type": "code",
   "execution_count": 100,
   "metadata": {
    "colab": {
     "base_uri": "https://localhost:8080/",
     "height": 163
    },
    "colab_type": "code",
    "executionInfo": {
     "elapsed": 899,
     "status": "error",
     "timestamp": 1564929319118,
     "user": {
      "displayName": "sandeep Burra",
      "photoUrl": "",
      "userId": "00094485018250843945"
     },
     "user_tz": -330
    },
    "id": "Poi3G4GX4uqZ",
    "outputId": "b69ef211-da7c-4a71-eddd-5fba8098c5b7"
   },
   "outputs": [],
   "source": [
    "clf_rf_svd= GCV.best_estimator_"
   ]
  },
  {
   "cell_type": "code",
   "execution_count": 101,
   "metadata": {
    "colab": {
     "base_uri": "https://localhost:8080/",
     "height": 136
    },
    "colab_type": "code",
    "executionInfo": {
     "elapsed": 2310,
     "status": "ok",
     "timestamp": 1564913527305,
     "user": {
      "displayName": "sandeep Burra",
      "photoUrl": "",
      "userId": "00094485018250843945"
     },
     "user_tz": -330
    },
    "id": "gxwiHLyN81dd",
    "outputId": "bbb0ecaf-8e0e-4b1e-9d4d-0cc8307d30b8"
   },
   "outputs": [
    {
     "data": {
      "text/plain": [
       "RandomForestClassifier(bootstrap=True, class_weight=None, criterion='gini',\n",
       "                       max_depth=10, max_features='auto', max_leaf_nodes=None,\n",
       "                       min_impurity_decrease=0.0, min_impurity_split=None,\n",
       "                       min_samples_leaf=1, min_samples_split=2,\n",
       "                       min_weight_fraction_leaf=0.0, n_estimators=100,\n",
       "                       n_jobs=None, oob_score=False, random_state=None,\n",
       "                       verbose=0, warm_start=False)"
      ]
     },
     "execution_count": 101,
     "metadata": {},
     "output_type": "execute_result"
    }
   ],
   "source": [
    "GCV.best_estimator_"
   ]
  },
  {
   "cell_type": "code",
   "execution_count": 102,
   "metadata": {
    "colab": {
     "base_uri": "https://localhost:8080/",
     "height": 513
    },
    "colab_type": "code",
    "executionInfo": {
     "elapsed": 172617,
     "status": "ok",
     "timestamp": 1564913712315,
     "user": {
      "displayName": "sandeep Burra",
      "photoUrl": "",
      "userId": "00094485018250843945"
     },
     "user_tz": -330
    },
    "id": "Jmyg8mW61H5F",
    "outputId": "4ec40da0-2c92-432f-ac9b-f84fae837ae3",
    "scrolled": false
   },
   "outputs": [
    {
     "data": {
      "image/png": "[encoded data removed]",
      "text/plain": [
       "<Figure size 576x576 with 1 Axes>"
      ]
     },
     "metadata": {},
     "output_type": "display_data"
    }
   ],
   "source": [
    "x_t, x_c, y_t, y_c = train_test_split(X_train_svd_std , y_train_median_svd, stratify=y_train_median_svd, test_size=0.3)\n",
    "clf_rf_svd.fit(x_t, y_t)\n",
    "sig_clf_probs = clf_rf_svd.predict_proba(x_c)[:,1]\n",
    "presicision, recall, tresholds =precision_recall_curve(y_c,sig_clf_probs)\n",
    "plot_precision_recall_vs_threshold(presicision, recall, tresholds)"
   ]
  },
  {
   "cell_type": "code",
   "execution_count": 104,
   "metadata": {
    "colab": {},
    "colab_type": "code",
    "id": "ICwHj_ij3WS0"
   },
   "outputs": [
    {
     "data": {
      "text/plain": [
       "RandomForestClassifier(bootstrap=True, class_weight=None, criterion='gini',\n",
       "                       max_depth=10, max_features='auto', max_leaf_nodes=None,\n",
       "                       min_impurity_decrease=0.0, min_impurity_split=None,\n",
       "                       min_samples_leaf=1, min_samples_split=2,\n",
       "                       min_weight_fraction_leaf=0.0, n_estimators=100,\n",
       "                       n_jobs=None, oob_score=False, random_state=None,\n",
       "                       verbose=0, warm_start=False)"
      ]
     },
     "execution_count": 104,
     "metadata": {},
     "output_type": "execute_result"
    }
   ],
   "source": [
    "clf_rf_svd.fit(X_train_svd_std , y_train_median_svd)"
   ]
  },
  {
   "cell_type": "code",
   "execution_count": 106,
   "metadata": {},
   "outputs": [],
   "source": [
    "test_clf_probs = clf_rf_svd.predict_proba(X_test_svd_std)[:,1]\n",
    "train_clf_probs = clf_rf_svd.predict_proba(X_train_svd_std)[:,1]"
   ]
  },
  {
   "cell_type": "code",
   "execution_count": 134,
   "metadata": {},
   "outputs": [],
   "source": [
    "# taking 0.4, since recall is high eith very little decrease in the precision\n",
    "t=0.4"
   ]
  },
  {
   "cell_type": "code",
   "execution_count": 135,
   "metadata": {
    "colab": {},
    "colab_type": "code",
    "id": "Y9daN3_s3WS5"
   },
   "outputs": [],
   "source": [
    "train_predictions = pred_with_threshold(train_clf_probs,t)\n",
    "test_predictions = pred_with_threshold(test_clf_probs,t)"
   ]
  },
  {
   "cell_type": "code",
   "execution_count": 136,
   "metadata": {
    "colab": {
     "base_uri": "https://localhost:8080/",
     "height": 675
    },
    "colab_type": "code",
    "executionInfo": {
     "elapsed": 1492,
     "status": "ok",
     "timestamp": 1564913924876,
     "user": {
      "displayName": "sandeep Burra",
      "photoUrl": "",
      "userId": "00094485018250843945"
     },
     "user_tz": -330
    },
    "id": "JNVNHDNC3WS-",
    "outputId": "a9dfe515-b474-4f9e-9be7-2b1e58557053",
    "scrolled": false
   },
   "outputs": [
    {
     "name": "stdout",
     "output_type": "stream",
     "text": [
      "Train Confusion Matrix\n"
     ]
    },
    {
     "data": {
      "image/png": "[encoded data removed]",
      "text/plain": [
       "<Figure size 576x288 with 2 Axes>"
      ]
     },
     "metadata": {},
     "output_type": "display_data"
    },
    {
     "name": "stdout",
     "output_type": "stream",
     "text": [
      "f1_score : 0.9730495740256255\n",
      "Total Cost due to mis classifiation: 511850\n",
      "Test Confusion Matrix\n"
     ]
    },
    {
     "data": {
      "image/png": "[encoded data removed]",
      "text/plain": [
       "<Figure size 576x288 with 2 Axes>"
      ]
     },
     "metadata": {},
     "output_type": "display_data"
    },
    {
     "name": "stdout",
     "output_type": "stream",
     "text": [
      "f1_score : 0.5364431486880467\n",
      "Total Cost due to mis classifiation: 9790\n"
     ]
    }
   ],
   "source": [
    "print(\"Train Confusion Matrix\")\n",
    "plot_confusion_matrix(y_train_median_svd, train_predictions)\n",
    "print(\"Test Confusion Matrix\")\n",
    "plot_confusion_matrix(y_test, test_predictions)"
   ]
  },
  {
   "cell_type": "markdown",
   "metadata": {},
   "source": [
    "### Conclusions"
   ]
  },
  {
   "cell_type": "code",
   "execution_count": 132,
   "metadata": {},
   "outputs": [],
   "source": [
    "from prettytable import PrettyTable"
   ]
  },
  {
   "cell_type": "code",
   "execution_count": 133,
   "metadata": {
    "scrolled": true
   },
   "outputs": [
    {
     "name": "stdout",
     "output_type": "stream",
     "text": [
      "+---------------+-------------------+----------+------------+\n",
      "|     model     | imputation_method | f1-score | total_cost |\n",
      "+---------------+-------------------+----------+------------+\n",
      "|   sgd-hinge   |        Mean       |   0.59   |   13800    |\n",
      "| random_forest |        Mean       |   0.60   |   11770    |\n",
      "|    XGBoost    |        Mean       |   0.75   |   22780    |\n",
      "|   sgd-hinge   |       Median      |   0.57   |   17560    |\n",
      "| random_forest |       Median      |   0.59   |   10890    |\n",
      "|    XGBoost    |       Median      |   0.55   |   23140    |\n",
      "|   sgd-hinge   |   constant_value  |   0.60   |   16730    |\n",
      "| random_forest |   constant_value  |   0.60   |   11190    |\n",
      "|    XGBoost    |   constant_value  |   0.71   |   18900    |\n",
      "|    PCA-0.6    |   constant_value  |   0.49   |   11550    |\n",
      "|    svd-0.4    |       Median      |   0.53   |    9790    |\n",
      "+---------------+-------------------+----------+------------+\n"
     ]
    }
   ],
   "source": [
    "pt=PrettyTable()\n",
    "pt.field_names=[\"model\",\"imputation_method\",\"f1-score\",\"total_cost\"]\n",
    "pt.add_row([\"sgd-hinge\",\"Mean\",\"0.59\",\"13800\"])\n",
    "pt.add_row([\"random_forest\",\"Mean\",\"0.60\",\"11770\"])\n",
    "pt.add_row([\"XGBoost\",\"Mean\",\"0.75\",\"22780\"])\n",
    "pt.add_row([\"sgd-hinge\",\"Median\",\"0.57\",\"17560\"])\n",
    "pt.add_row([\"random_forest\",\"Median\",\"0.59\",\"10890\"])\n",
    "pt.add_row([\"XGBoost\",\"Median\",\"0.55\",\"23140\"])\n",
    "pt.add_row([\"sgd-hinge\",\"constant_value\",\"0.60\",\"16730\"])\n",
    "pt.add_row([\"random_forest\",\"constant_value\",\"0.60\",\"11190\"])\n",
    "pt.add_row([\"XGBoost\",\"constant_value\",\"0.71\",\"18900\"])\n",
    "pt.add_row([\"PCA-0.6\",\"constant_value\",\"0.49\",\"11550\"])\n",
    "pt.add_row([\"svd-0.4\",\"Median\",\"0.53\",\"9790\"])\n",
    "print(pt)"
   ]
  },
  {
   "cell_type": "markdown",
   "metadata": {},
   "source": [
    "#### From the above results we coud conclude that, \n",
    "* Random forest classidier with median value imputation after applyind dimensionality reduction technique given good results.\n",
    "* Many features are not important for the prediction, since out of 160 features, if we take 30 features we could able preserve  99.99% of varaince.\n",
    "* So I have reduced the dimensions using SVD.\n",
    "* with our best model we got the minimum cost of 9790."
   ]
  }
 ],
 "metadata": {
  "accelerator": "GPU",
  "colab": {
   "collapsed_sections": [
    "s8G7JTJW4upz",
    "_c2TaTad4up8"
   ],
   "name": "APS_failure.ipynb",
   "provenance": [],
   "toc_visible": true,
   "version": "0.3.2"
  },
  "kernelspec": {
   "display_name": "Python 3",
   "language": "python",
   "name": "python3"
  },
  "language_info": {
   "codemirror_mode": {
    "name": "ipython",
    "version": 3
   },
   "file_extension": ".py",
   "mimetype": "text/x-python",
   "name": "python",
   "nbconvert_exporter": "python",
   "pygments_lexer": "ipython3",
   "version": "3.6.5"
  }
 },
 "nbformat": 4,
 "nbformat_minor": 1
}
